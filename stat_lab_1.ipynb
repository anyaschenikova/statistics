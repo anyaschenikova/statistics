{
  "cells": [
    {
      "cell_type": "markdown",
      "source": [
        "# Imports"
      ],
      "metadata": {
        "id": "kL2_PCOmpAaA"
      }
    },
    {
      "cell_type": "code",
      "source": [
        "!pip install statsmodels==0.13.2"
      ],
      "metadata": {
        "colab": {
          "base_uri": "https://localhost:8080/"
        },
        "id": "le9Y1Pj9nGKa",
        "outputId": "3fe5d83b-8640-4319-869b-5e6aff022503"
      },
      "execution_count": 1,
      "outputs": [
        {
          "output_type": "stream",
          "name": "stdout",
          "text": [
            "Looking in indexes: https://pypi.org/simple, https://us-python.pkg.dev/colab-wheels/public/simple/\n",
            "Requirement already satisfied: statsmodels==0.13.2 in /usr/local/lib/python3.7/dist-packages (0.13.2)\n",
            "Requirement already satisfied: numpy>=1.17 in /usr/local/lib/python3.7/dist-packages (from statsmodels==0.13.2) (1.21.6)\n",
            "Requirement already satisfied: packaging>=21.3 in /usr/local/lib/python3.7/dist-packages (from statsmodels==0.13.2) (21.3)\n",
            "Requirement already satisfied: scipy>=1.3 in /usr/local/lib/python3.7/dist-packages (from statsmodels==0.13.2) (1.4.1)\n",
            "Requirement already satisfied: pandas>=0.25 in /usr/local/lib/python3.7/dist-packages (from statsmodels==0.13.2) (1.3.5)\n",
            "Requirement already satisfied: patsy>=0.5.2 in /usr/local/lib/python3.7/dist-packages (from statsmodels==0.13.2) (0.5.2)\n",
            "Requirement already satisfied: pyparsing!=3.0.5,>=2.0.2 in /usr/local/lib/python3.7/dist-packages (from packaging>=21.3->statsmodels==0.13.2) (3.0.9)\n",
            "Requirement already satisfied: python-dateutil>=2.7.3 in /usr/local/lib/python3.7/dist-packages (from pandas>=0.25->statsmodels==0.13.2) (2.8.2)\n",
            "Requirement already satisfied: pytz>=2017.3 in /usr/local/lib/python3.7/dist-packages (from pandas>=0.25->statsmodels==0.13.2) (2022.1)\n",
            "Requirement already satisfied: six in /usr/local/lib/python3.7/dist-packages (from patsy>=0.5.2->statsmodels==0.13.2) (1.15.0)\n"
          ]
        }
      ]
    },
    {
      "cell_type": "code",
      "source": [
        "!wget https://www.dropbox.com/s/v8lvawzau8qj32f/df_contr.csv?dl=0 -O df_contr.csv"
      ],
      "metadata": {
        "colab": {
          "base_uri": "https://localhost:8080/"
        },
        "id": "neHE3z-cfwIH",
        "outputId": "aac035e7-5813-4006-d5de-a29db9696a07"
      },
      "execution_count": 2,
      "outputs": [
        {
          "output_type": "stream",
          "name": "stdout",
          "text": [
            "--2022-06-24 21:28:58--  https://www.dropbox.com/s/v8lvawzau8qj32f/df_contr.csv?dl=0\n",
            "Resolving www.dropbox.com (www.dropbox.com)... 162.125.5.18, 2620:100:601d:18::a27d:512\n",
            "Connecting to www.dropbox.com (www.dropbox.com)|162.125.5.18|:443... connected.\n",
            "HTTP request sent, awaiting response... 301 Moved Permanently\n",
            "Location: /s/raw/v8lvawzau8qj32f/df_contr.csv [following]\n",
            "--2022-06-24 21:28:59--  https://www.dropbox.com/s/raw/v8lvawzau8qj32f/df_contr.csv\n",
            "Reusing existing connection to www.dropbox.com:443.\n",
            "HTTP request sent, awaiting response... 302 Found\n",
            "Location: https://uc1af528b019872039b7b7d9873d.dl.dropboxusercontent.com/cd/0/inline/Bn3b4Kukw-kAVuacTsPegHDpeY5qjjVpeB_iOLh8lb4W74CkxLeEOq1j6zec2IJP0wyCm7doIk7hO8Cv5nGnyhrIMd0bqOptP0EbKf2geg0NtZXTp-dJwPComy-fJ--7DMYazVd2CqUONyUFZaxotxRc1VMu_LnHHIYON_8_3B4t2A/file# [following]\n",
            "--2022-06-24 21:28:59--  https://uc1af528b019872039b7b7d9873d.dl.dropboxusercontent.com/cd/0/inline/Bn3b4Kukw-kAVuacTsPegHDpeY5qjjVpeB_iOLh8lb4W74CkxLeEOq1j6zec2IJP0wyCm7doIk7hO8Cv5nGnyhrIMd0bqOptP0EbKf2geg0NtZXTp-dJwPComy-fJ--7DMYazVd2CqUONyUFZaxotxRc1VMu_LnHHIYON_8_3B4t2A/file\n",
            "Resolving uc1af528b019872039b7b7d9873d.dl.dropboxusercontent.com (uc1af528b019872039b7b7d9873d.dl.dropboxusercontent.com)... 162.125.5.15, 2620:100:601d:15::a27d:50f\n",
            "Connecting to uc1af528b019872039b7b7d9873d.dl.dropboxusercontent.com (uc1af528b019872039b7b7d9873d.dl.dropboxusercontent.com)|162.125.5.15|:443... connected.\n",
            "HTTP request sent, awaiting response... 200 OK\n",
            "Length: 81009498 (77M) [text/plain]\n",
            "Saving to: ‘df_contr.csv’\n",
            "\n",
            "df_contr.csv        100%[===================>]  77.26M  86.6MB/s    in 0.9s    \n",
            "\n",
            "2022-06-24 21:29:01 (86.6 MB/s) - ‘df_contr.csv’ saved [81009498/81009498]\n",
            "\n"
          ]
        }
      ]
    },
    {
      "cell_type": "code",
      "execution_count": 3,
      "metadata": {
        "id": "EM5LkBn1ft8G"
      },
      "outputs": [],
      "source": [
        "import pandas as pd\n",
        "import numpy as np\n",
        "import os\n",
        "import matplotlib.pyplot as plt\n",
        "import statsmodels.api as sm\n",
        "import seaborn as sn"
      ]
    },
    {
      "cell_type": "markdown",
      "source": [
        "# Get data"
      ],
      "metadata": {
        "id": "AXj3S4SMpCXE"
      }
    },
    {
      "cell_type": "code",
      "execution_count": 4,
      "metadata": {
        "colab": {
          "base_uri": "https://localhost:8080/",
          "height": 386
        },
        "id": "JQ5a78jOft8I",
        "outputId": "b93259ca-b4e1-412d-c533-194cac266b1f"
      },
      "outputs": [
        {
          "output_type": "execute_result",
          "data": {
            "text/plain": [
              "     0             1    2         3         4    5    6         7         8  \\\n",
              "0  0.0  1.127401e-06  0.0  0.007430  0.796027  0.0  0.0  0.001325  0.101094   \n",
              "1  0.0  2.441844e-06  0.0  0.001321  0.793136  0.0  0.0  0.001277  0.095537   \n",
              "2  0.0  8.258066e-06  0.0  0.021003  0.787729  0.0  0.0  0.001436  0.082391   \n",
              "3  0.0  2.431894e-03  0.0  0.038897  0.817947  0.0  0.0  0.001305  0.082233   \n",
              "4  0.0  6.384028e-07  0.0  0.016156  0.842710  0.0  0.0  0.001314  0.103817   \n",
              "\n",
              "          9  ...        33            34        35        36        37  \\\n",
              "0  0.000460  ...  0.613967  4.091510e-01  0.000000  0.526460  0.041600   \n",
              "1  0.000491  ...  0.569403  2.914488e-01  0.000000  0.522974  0.022780   \n",
              "2  0.000469  ...  0.454569  3.599594e-09  0.000000  0.520354  0.018925   \n",
              "3  0.000447  ...  0.392837  0.000000e+00  0.000988  0.518270  0.018968   \n",
              "4  0.000414  ...  0.295185  0.000000e+00  0.000003  0.495909  0.010797   \n",
              "\n",
              "         38        39        40        41        42  \n",
              "0  0.659023  0.551674  0.580888  0.399540  0.667056  \n",
              "1  0.657298  0.549259  0.556894  0.384349  0.655138  \n",
              "2  0.655854  0.547006  0.543275  0.388836  0.645928  \n",
              "3  0.654505  0.542063  0.541815  0.405353  0.645090  \n",
              "4  0.633824  0.463649  0.517101  0.503556  0.613506  \n",
              "\n",
              "[5 rows x 43 columns]"
            ],
            "text/html": [
              "\n",
              "  <div id=\"df-258cc6fe-d8f2-4b1f-909c-60c806f2be8b\">\n",
              "    <div class=\"colab-df-container\">\n",
              "      <div>\n",
              "<style scoped>\n",
              "    .dataframe tbody tr th:only-of-type {\n",
              "        vertical-align: middle;\n",
              "    }\n",
              "\n",
              "    .dataframe tbody tr th {\n",
              "        vertical-align: top;\n",
              "    }\n",
              "\n",
              "    .dataframe thead th {\n",
              "        text-align: right;\n",
              "    }\n",
              "</style>\n",
              "<table border=\"1\" class=\"dataframe\">\n",
              "  <thead>\n",
              "    <tr style=\"text-align: right;\">\n",
              "      <th></th>\n",
              "      <th>0</th>\n",
              "      <th>1</th>\n",
              "      <th>2</th>\n",
              "      <th>3</th>\n",
              "      <th>4</th>\n",
              "      <th>5</th>\n",
              "      <th>6</th>\n",
              "      <th>7</th>\n",
              "      <th>8</th>\n",
              "      <th>9</th>\n",
              "      <th>...</th>\n",
              "      <th>33</th>\n",
              "      <th>34</th>\n",
              "      <th>35</th>\n",
              "      <th>36</th>\n",
              "      <th>37</th>\n",
              "      <th>38</th>\n",
              "      <th>39</th>\n",
              "      <th>40</th>\n",
              "      <th>41</th>\n",
              "      <th>42</th>\n",
              "    </tr>\n",
              "  </thead>\n",
              "  <tbody>\n",
              "    <tr>\n",
              "      <th>0</th>\n",
              "      <td>0.0</td>\n",
              "      <td>1.127401e-06</td>\n",
              "      <td>0.0</td>\n",
              "      <td>0.007430</td>\n",
              "      <td>0.796027</td>\n",
              "      <td>0.0</td>\n",
              "      <td>0.0</td>\n",
              "      <td>0.001325</td>\n",
              "      <td>0.101094</td>\n",
              "      <td>0.000460</td>\n",
              "      <td>...</td>\n",
              "      <td>0.613967</td>\n",
              "      <td>4.091510e-01</td>\n",
              "      <td>0.000000</td>\n",
              "      <td>0.526460</td>\n",
              "      <td>0.041600</td>\n",
              "      <td>0.659023</td>\n",
              "      <td>0.551674</td>\n",
              "      <td>0.580888</td>\n",
              "      <td>0.399540</td>\n",
              "      <td>0.667056</td>\n",
              "    </tr>\n",
              "    <tr>\n",
              "      <th>1</th>\n",
              "      <td>0.0</td>\n",
              "      <td>2.441844e-06</td>\n",
              "      <td>0.0</td>\n",
              "      <td>0.001321</td>\n",
              "      <td>0.793136</td>\n",
              "      <td>0.0</td>\n",
              "      <td>0.0</td>\n",
              "      <td>0.001277</td>\n",
              "      <td>0.095537</td>\n",
              "      <td>0.000491</td>\n",
              "      <td>...</td>\n",
              "      <td>0.569403</td>\n",
              "      <td>2.914488e-01</td>\n",
              "      <td>0.000000</td>\n",
              "      <td>0.522974</td>\n",
              "      <td>0.022780</td>\n",
              "      <td>0.657298</td>\n",
              "      <td>0.549259</td>\n",
              "      <td>0.556894</td>\n",
              "      <td>0.384349</td>\n",
              "      <td>0.655138</td>\n",
              "    </tr>\n",
              "    <tr>\n",
              "      <th>2</th>\n",
              "      <td>0.0</td>\n",
              "      <td>8.258066e-06</td>\n",
              "      <td>0.0</td>\n",
              "      <td>0.021003</td>\n",
              "      <td>0.787729</td>\n",
              "      <td>0.0</td>\n",
              "      <td>0.0</td>\n",
              "      <td>0.001436</td>\n",
              "      <td>0.082391</td>\n",
              "      <td>0.000469</td>\n",
              "      <td>...</td>\n",
              "      <td>0.454569</td>\n",
              "      <td>3.599594e-09</td>\n",
              "      <td>0.000000</td>\n",
              "      <td>0.520354</td>\n",
              "      <td>0.018925</td>\n",
              "      <td>0.655854</td>\n",
              "      <td>0.547006</td>\n",
              "      <td>0.543275</td>\n",
              "      <td>0.388836</td>\n",
              "      <td>0.645928</td>\n",
              "    </tr>\n",
              "    <tr>\n",
              "      <th>3</th>\n",
              "      <td>0.0</td>\n",
              "      <td>2.431894e-03</td>\n",
              "      <td>0.0</td>\n",
              "      <td>0.038897</td>\n",
              "      <td>0.817947</td>\n",
              "      <td>0.0</td>\n",
              "      <td>0.0</td>\n",
              "      <td>0.001305</td>\n",
              "      <td>0.082233</td>\n",
              "      <td>0.000447</td>\n",
              "      <td>...</td>\n",
              "      <td>0.392837</td>\n",
              "      <td>0.000000e+00</td>\n",
              "      <td>0.000988</td>\n",
              "      <td>0.518270</td>\n",
              "      <td>0.018968</td>\n",
              "      <td>0.654505</td>\n",
              "      <td>0.542063</td>\n",
              "      <td>0.541815</td>\n",
              "      <td>0.405353</td>\n",
              "      <td>0.645090</td>\n",
              "    </tr>\n",
              "    <tr>\n",
              "      <th>4</th>\n",
              "      <td>0.0</td>\n",
              "      <td>6.384028e-07</td>\n",
              "      <td>0.0</td>\n",
              "      <td>0.016156</td>\n",
              "      <td>0.842710</td>\n",
              "      <td>0.0</td>\n",
              "      <td>0.0</td>\n",
              "      <td>0.001314</td>\n",
              "      <td>0.103817</td>\n",
              "      <td>0.000414</td>\n",
              "      <td>...</td>\n",
              "      <td>0.295185</td>\n",
              "      <td>0.000000e+00</td>\n",
              "      <td>0.000003</td>\n",
              "      <td>0.495909</td>\n",
              "      <td>0.010797</td>\n",
              "      <td>0.633824</td>\n",
              "      <td>0.463649</td>\n",
              "      <td>0.517101</td>\n",
              "      <td>0.503556</td>\n",
              "      <td>0.613506</td>\n",
              "    </tr>\n",
              "  </tbody>\n",
              "</table>\n",
              "<p>5 rows × 43 columns</p>\n",
              "</div>\n",
              "      <button class=\"colab-df-convert\" onclick=\"convertToInteractive('df-258cc6fe-d8f2-4b1f-909c-60c806f2be8b')\"\n",
              "              title=\"Convert this dataframe to an interactive table.\"\n",
              "              style=\"display:none;\">\n",
              "        \n",
              "  <svg xmlns=\"http://www.w3.org/2000/svg\" height=\"24px\"viewBox=\"0 0 24 24\"\n",
              "       width=\"24px\">\n",
              "    <path d=\"M0 0h24v24H0V0z\" fill=\"none\"/>\n",
              "    <path d=\"M18.56 5.44l.94 2.06.94-2.06 2.06-.94-2.06-.94-.94-2.06-.94 2.06-2.06.94zm-11 1L8.5 8.5l.94-2.06 2.06-.94-2.06-.94L8.5 2.5l-.94 2.06-2.06.94zm10 10l.94 2.06.94-2.06 2.06-.94-2.06-.94-.94-2.06-.94 2.06-2.06.94z\"/><path d=\"M17.41 7.96l-1.37-1.37c-.4-.4-.92-.59-1.43-.59-.52 0-1.04.2-1.43.59L10.3 9.45l-7.72 7.72c-.78.78-.78 2.05 0 2.83L4 21.41c.39.39.9.59 1.41.59.51 0 1.02-.2 1.41-.59l7.78-7.78 2.81-2.81c.8-.78.8-2.07 0-2.86zM5.41 20L4 18.59l7.72-7.72 1.47 1.35L5.41 20z\"/>\n",
              "  </svg>\n",
              "      </button>\n",
              "      \n",
              "  <style>\n",
              "    .colab-df-container {\n",
              "      display:flex;\n",
              "      flex-wrap:wrap;\n",
              "      gap: 12px;\n",
              "    }\n",
              "\n",
              "    .colab-df-convert {\n",
              "      background-color: #E8F0FE;\n",
              "      border: none;\n",
              "      border-radius: 50%;\n",
              "      cursor: pointer;\n",
              "      display: none;\n",
              "      fill: #1967D2;\n",
              "      height: 32px;\n",
              "      padding: 0 0 0 0;\n",
              "      width: 32px;\n",
              "    }\n",
              "\n",
              "    .colab-df-convert:hover {\n",
              "      background-color: #E2EBFA;\n",
              "      box-shadow: 0px 1px 2px rgba(60, 64, 67, 0.3), 0px 1px 3px 1px rgba(60, 64, 67, 0.15);\n",
              "      fill: #174EA6;\n",
              "    }\n",
              "\n",
              "    [theme=dark] .colab-df-convert {\n",
              "      background-color: #3B4455;\n",
              "      fill: #D2E3FC;\n",
              "    }\n",
              "\n",
              "    [theme=dark] .colab-df-convert:hover {\n",
              "      background-color: #434B5C;\n",
              "      box-shadow: 0px 1px 3px 1px rgba(0, 0, 0, 0.15);\n",
              "      filter: drop-shadow(0px 1px 2px rgba(0, 0, 0, 0.3));\n",
              "      fill: #FFFFFF;\n",
              "    }\n",
              "  </style>\n",
              "\n",
              "      <script>\n",
              "        const buttonEl =\n",
              "          document.querySelector('#df-258cc6fe-d8f2-4b1f-909c-60c806f2be8b button.colab-df-convert');\n",
              "        buttonEl.style.display =\n",
              "          google.colab.kernel.accessAllowed ? 'block' : 'none';\n",
              "\n",
              "        async function convertToInteractive(key) {\n",
              "          const element = document.querySelector('#df-258cc6fe-d8f2-4b1f-909c-60c806f2be8b');\n",
              "          const dataTable =\n",
              "            await google.colab.kernel.invokeFunction('convertToInteractive',\n",
              "                                                     [key], {});\n",
              "          if (!dataTable) return;\n",
              "\n",
              "          const docLinkHtml = 'Like what you see? Visit the ' +\n",
              "            '<a target=\"_blank\" href=https://colab.research.google.com/notebooks/data_table.ipynb>data table notebook</a>'\n",
              "            + ' to learn more about interactive tables.';\n",
              "          element.innerHTML = '';\n",
              "          dataTable['output_type'] = 'display_data';\n",
              "          await google.colab.output.renderOutput(dataTable, element);\n",
              "          const docLink = document.createElement('div');\n",
              "          docLink.innerHTML = docLinkHtml;\n",
              "          element.appendChild(docLink);\n",
              "        }\n",
              "      </script>\n",
              "    </div>\n",
              "  </div>\n",
              "  "
            ]
          },
          "metadata": {},
          "execution_count": 4
        }
      ],
      "source": [
        "data = pd.read_csv('/content/df_contr.csv', index_col=0, sep=',', parse_dates=True)\n",
        "data.head()"
      ]
    },
    {
      "cell_type": "markdown",
      "metadata": {
        "id": "wG7A2aS8ft8J"
      },
      "source": [
        "Generated some dates what and set them as an index"
      ]
    },
    {
      "cell_type": "code",
      "execution_count": 5,
      "metadata": {
        "id": "pJkvphP-ft8K"
      },
      "outputs": [],
      "source": [
        "index = pd.date_range(start='1/1/1900', periods=len(data))"
      ]
    },
    {
      "cell_type": "markdown",
      "metadata": {
        "id": "O1B4K3twft8L"
      },
      "source": [
        "My number in the list is 51, respectively:"
      ]
    },
    {
      "cell_type": "code",
      "source": [
        "n = 51\n",
        "y = n%4 + 1"
      ],
      "metadata": {
        "id": "T5CpdvLsiRA9"
      },
      "execution_count": 6,
      "outputs": []
    },
    {
      "cell_type": "markdown",
      "source": [
        "My dependent series is the 4th, and the regressors in question are:"
      ],
      "metadata": {
        "id": "iaGwvMzzia3x"
      }
    },
    {
      "cell_type": "code",
      "source": [
        "indexes = [i for i in range(n+4, n+9+1)]\n",
        "indexes"
      ],
      "metadata": {
        "colab": {
          "base_uri": "https://localhost:8080/"
        },
        "id": "jdokhYjvih_2",
        "outputId": "5daa2da1-27f2-420a-f1fd-ca116c50a088"
      },
      "execution_count": 7,
      "outputs": [
        {
          "output_type": "execute_result",
          "data": {
            "text/plain": [
              "[55, 56, 57, 58, 59, 60]"
            ]
          },
          "metadata": {},
          "execution_count": 7
        }
      ]
    },
    {
      "cell_type": "code",
      "source": [
        "len(data.columns)"
      ],
      "metadata": {
        "colab": {
          "base_uri": "https://localhost:8080/"
        },
        "id": "I45__QOCjWOy",
        "outputId": "fda0008e-4da5-4e54-84e3-e0f848d48919"
      },
      "execution_count": 8,
      "outputs": [
        {
          "output_type": "execute_result",
          "data": {
            "text/plain": [
              "43"
            ]
          },
          "metadata": {},
          "execution_count": 8
        }
      ]
    },
    {
      "cell_type": "markdown",
      "source": [
        "I can’t take column 55, since there are only 43 of them)) so we’ll take it from another"
      ],
      "metadata": {
        "id": "INSlKUqljePH"
      }
    },
    {
      "cell_type": "code",
      "source": [
        "indexes = [i for i in range(y+4, y+9+1)]\n",
        "indexes"
      ],
      "metadata": {
        "colab": {
          "base_uri": "https://localhost:8080/"
        },
        "id": "5H6P7R8Mjis7",
        "outputId": "550456b3-1748-484f-c23e-4de0a820822f"
      },
      "execution_count": 9,
      "outputs": [
        {
          "output_type": "execute_result",
          "data": {
            "text/plain": [
              "[8, 9, 10, 11, 12, 13]"
            ]
          },
          "metadata": {},
          "execution_count": 9
        }
      ]
    },
    {
      "cell_type": "code",
      "execution_count": 10,
      "metadata": {
        "id": "NhVBKepfft8L"
      },
      "outputs": [],
      "source": [
        "data.index = index"
      ]
    },
    {
      "cell_type": "code",
      "execution_count": 11,
      "metadata": {
        "colab": {
          "base_uri": "https://localhost:8080/",
          "height": 394
        },
        "id": "A9-jobkVft8L",
        "outputId": "88e924c2-af67-4bce-e7f9-74ece44c7053"
      },
      "outputs": [
        {
          "output_type": "execute_result",
          "data": {
            "text/plain": [
              "                   0              1              2              3  \\\n",
              "count  108985.000000  108985.000000  108985.000000  108985.000000   \n",
              "mean        0.568647       0.465107       0.045525       0.457255   \n",
              "std         0.314737       0.265704       0.173369       0.260164   \n",
              "min         0.000000       0.000000       0.000000       0.000000   \n",
              "25%         0.531392       0.414460       0.000000       0.452315   \n",
              "50%         0.690582       0.562666       0.000000       0.518634   \n",
              "75%         0.792603       0.625215       0.000000       0.637901   \n",
              "max         1.000000       1.000000       1.000000       1.000000   \n",
              "\n",
              "                   4              5              6              7  \\\n",
              "count  108985.000000  108985.000000  108985.000000  108985.000000   \n",
              "mean        0.110934       0.008036       0.674683       0.264017   \n",
              "std         0.103693       0.070645       0.263245       0.216616   \n",
              "min         0.000000       0.000000       0.000000       0.000000   \n",
              "25%         0.049839       0.000000       0.724125       0.009859   \n",
              "50%         0.093195       0.000000       0.772489       0.329300   \n",
              "75%         0.141860       0.000000       0.829274       0.421342   \n",
              "max         1.000000       1.000000       1.000000       1.000000   \n",
              "\n",
              "                   8              9  ...             33             34  \\\n",
              "count  108985.000000  108985.000000  ...  108985.000000  108985.000000   \n",
              "mean        0.130592       0.244488  ...       0.406740       0.358684   \n",
              "std         0.174090       0.172585  ...       0.218514       0.211743   \n",
              "min         0.000000       0.000000  ...       0.000000       0.000000   \n",
              "25%         0.018104       0.158842  ...       0.429648       0.229582   \n",
              "50%         0.061482       0.251851  ...       0.481765       0.435979   \n",
              "75%         0.168606       0.357535  ...       0.506072       0.485473   \n",
              "max         1.000000       1.000000  ...       1.000000       1.000000   \n",
              "\n",
              "                  35             36             37             38  \\\n",
              "count  108985.000000  108985.000000  108985.000000  108985.000000   \n",
              "mean        0.163532       0.685607       0.126650       0.554633   \n",
              "std         0.096743       0.331819       0.250601       0.267842   \n",
              "min         0.000000       0.000000       0.000000       0.000000   \n",
              "25%         0.162130       0.786978       0.013134       0.604524   \n",
              "50%         0.186887       0.855954       0.013990       0.700228   \n",
              "75%         0.213618       0.883491       0.015282       0.712843   \n",
              "max         1.000000       1.000000       1.000000       1.000000   \n",
              "\n",
              "                  39             40             41             42  \n",
              "count  108985.000000  108985.000000  108985.000000  108985.000000  \n",
              "mean        0.668909       0.764211       0.580824       0.744960  \n",
              "std         0.230928       0.364718       0.267948       0.338707  \n",
              "min         0.000000       0.000000       0.000000       0.000000  \n",
              "25%         0.600421       0.939517       0.473782       0.886372  \n",
              "50%         0.763411       0.945549       0.720679       0.915387  \n",
              "75%         0.830417       0.961670       0.761748       0.928848  \n",
              "max         1.000000       1.000000       1.000000       1.000000  \n",
              "\n",
              "[8 rows x 43 columns]"
            ],
            "text/html": [
              "\n",
              "  <div id=\"df-acdd22f5-e410-4fd6-9ebc-5fc5043c2002\">\n",
              "    <div class=\"colab-df-container\">\n",
              "      <div>\n",
              "<style scoped>\n",
              "    .dataframe tbody tr th:only-of-type {\n",
              "        vertical-align: middle;\n",
              "    }\n",
              "\n",
              "    .dataframe tbody tr th {\n",
              "        vertical-align: top;\n",
              "    }\n",
              "\n",
              "    .dataframe thead th {\n",
              "        text-align: right;\n",
              "    }\n",
              "</style>\n",
              "<table border=\"1\" class=\"dataframe\">\n",
              "  <thead>\n",
              "    <tr style=\"text-align: right;\">\n",
              "      <th></th>\n",
              "      <th>0</th>\n",
              "      <th>1</th>\n",
              "      <th>2</th>\n",
              "      <th>3</th>\n",
              "      <th>4</th>\n",
              "      <th>5</th>\n",
              "      <th>6</th>\n",
              "      <th>7</th>\n",
              "      <th>8</th>\n",
              "      <th>9</th>\n",
              "      <th>...</th>\n",
              "      <th>33</th>\n",
              "      <th>34</th>\n",
              "      <th>35</th>\n",
              "      <th>36</th>\n",
              "      <th>37</th>\n",
              "      <th>38</th>\n",
              "      <th>39</th>\n",
              "      <th>40</th>\n",
              "      <th>41</th>\n",
              "      <th>42</th>\n",
              "    </tr>\n",
              "  </thead>\n",
              "  <tbody>\n",
              "    <tr>\n",
              "      <th>count</th>\n",
              "      <td>108985.000000</td>\n",
              "      <td>108985.000000</td>\n",
              "      <td>108985.000000</td>\n",
              "      <td>108985.000000</td>\n",
              "      <td>108985.000000</td>\n",
              "      <td>108985.000000</td>\n",
              "      <td>108985.000000</td>\n",
              "      <td>108985.000000</td>\n",
              "      <td>108985.000000</td>\n",
              "      <td>108985.000000</td>\n",
              "      <td>...</td>\n",
              "      <td>108985.000000</td>\n",
              "      <td>108985.000000</td>\n",
              "      <td>108985.000000</td>\n",
              "      <td>108985.000000</td>\n",
              "      <td>108985.000000</td>\n",
              "      <td>108985.000000</td>\n",
              "      <td>108985.000000</td>\n",
              "      <td>108985.000000</td>\n",
              "      <td>108985.000000</td>\n",
              "      <td>108985.000000</td>\n",
              "    </tr>\n",
              "    <tr>\n",
              "      <th>mean</th>\n",
              "      <td>0.568647</td>\n",
              "      <td>0.465107</td>\n",
              "      <td>0.045525</td>\n",
              "      <td>0.457255</td>\n",
              "      <td>0.110934</td>\n",
              "      <td>0.008036</td>\n",
              "      <td>0.674683</td>\n",
              "      <td>0.264017</td>\n",
              "      <td>0.130592</td>\n",
              "      <td>0.244488</td>\n",
              "      <td>...</td>\n",
              "      <td>0.406740</td>\n",
              "      <td>0.358684</td>\n",
              "      <td>0.163532</td>\n",
              "      <td>0.685607</td>\n",
              "      <td>0.126650</td>\n",
              "      <td>0.554633</td>\n",
              "      <td>0.668909</td>\n",
              "      <td>0.764211</td>\n",
              "      <td>0.580824</td>\n",
              "      <td>0.744960</td>\n",
              "    </tr>\n",
              "    <tr>\n",
              "      <th>std</th>\n",
              "      <td>0.314737</td>\n",
              "      <td>0.265704</td>\n",
              "      <td>0.173369</td>\n",
              "      <td>0.260164</td>\n",
              "      <td>0.103693</td>\n",
              "      <td>0.070645</td>\n",
              "      <td>0.263245</td>\n",
              "      <td>0.216616</td>\n",
              "      <td>0.174090</td>\n",
              "      <td>0.172585</td>\n",
              "      <td>...</td>\n",
              "      <td>0.218514</td>\n",
              "      <td>0.211743</td>\n",
              "      <td>0.096743</td>\n",
              "      <td>0.331819</td>\n",
              "      <td>0.250601</td>\n",
              "      <td>0.267842</td>\n",
              "      <td>0.230928</td>\n",
              "      <td>0.364718</td>\n",
              "      <td>0.267948</td>\n",
              "      <td>0.338707</td>\n",
              "    </tr>\n",
              "    <tr>\n",
              "      <th>min</th>\n",
              "      <td>0.000000</td>\n",
              "      <td>0.000000</td>\n",
              "      <td>0.000000</td>\n",
              "      <td>0.000000</td>\n",
              "      <td>0.000000</td>\n",
              "      <td>0.000000</td>\n",
              "      <td>0.000000</td>\n",
              "      <td>0.000000</td>\n",
              "      <td>0.000000</td>\n",
              "      <td>0.000000</td>\n",
              "      <td>...</td>\n",
              "      <td>0.000000</td>\n",
              "      <td>0.000000</td>\n",
              "      <td>0.000000</td>\n",
              "      <td>0.000000</td>\n",
              "      <td>0.000000</td>\n",
              "      <td>0.000000</td>\n",
              "      <td>0.000000</td>\n",
              "      <td>0.000000</td>\n",
              "      <td>0.000000</td>\n",
              "      <td>0.000000</td>\n",
              "    </tr>\n",
              "    <tr>\n",
              "      <th>25%</th>\n",
              "      <td>0.531392</td>\n",
              "      <td>0.414460</td>\n",
              "      <td>0.000000</td>\n",
              "      <td>0.452315</td>\n",
              "      <td>0.049839</td>\n",
              "      <td>0.000000</td>\n",
              "      <td>0.724125</td>\n",
              "      <td>0.009859</td>\n",
              "      <td>0.018104</td>\n",
              "      <td>0.158842</td>\n",
              "      <td>...</td>\n",
              "      <td>0.429648</td>\n",
              "      <td>0.229582</td>\n",
              "      <td>0.162130</td>\n",
              "      <td>0.786978</td>\n",
              "      <td>0.013134</td>\n",
              "      <td>0.604524</td>\n",
              "      <td>0.600421</td>\n",
              "      <td>0.939517</td>\n",
              "      <td>0.473782</td>\n",
              "      <td>0.886372</td>\n",
              "    </tr>\n",
              "    <tr>\n",
              "      <th>50%</th>\n",
              "      <td>0.690582</td>\n",
              "      <td>0.562666</td>\n",
              "      <td>0.000000</td>\n",
              "      <td>0.518634</td>\n",
              "      <td>0.093195</td>\n",
              "      <td>0.000000</td>\n",
              "      <td>0.772489</td>\n",
              "      <td>0.329300</td>\n",
              "      <td>0.061482</td>\n",
              "      <td>0.251851</td>\n",
              "      <td>...</td>\n",
              "      <td>0.481765</td>\n",
              "      <td>0.435979</td>\n",
              "      <td>0.186887</td>\n",
              "      <td>0.855954</td>\n",
              "      <td>0.013990</td>\n",
              "      <td>0.700228</td>\n",
              "      <td>0.763411</td>\n",
              "      <td>0.945549</td>\n",
              "      <td>0.720679</td>\n",
              "      <td>0.915387</td>\n",
              "    </tr>\n",
              "    <tr>\n",
              "      <th>75%</th>\n",
              "      <td>0.792603</td>\n",
              "      <td>0.625215</td>\n",
              "      <td>0.000000</td>\n",
              "      <td>0.637901</td>\n",
              "      <td>0.141860</td>\n",
              "      <td>0.000000</td>\n",
              "      <td>0.829274</td>\n",
              "      <td>0.421342</td>\n",
              "      <td>0.168606</td>\n",
              "      <td>0.357535</td>\n",
              "      <td>...</td>\n",
              "      <td>0.506072</td>\n",
              "      <td>0.485473</td>\n",
              "      <td>0.213618</td>\n",
              "      <td>0.883491</td>\n",
              "      <td>0.015282</td>\n",
              "      <td>0.712843</td>\n",
              "      <td>0.830417</td>\n",
              "      <td>0.961670</td>\n",
              "      <td>0.761748</td>\n",
              "      <td>0.928848</td>\n",
              "    </tr>\n",
              "    <tr>\n",
              "      <th>max</th>\n",
              "      <td>1.000000</td>\n",
              "      <td>1.000000</td>\n",
              "      <td>1.000000</td>\n",
              "      <td>1.000000</td>\n",
              "      <td>1.000000</td>\n",
              "      <td>1.000000</td>\n",
              "      <td>1.000000</td>\n",
              "      <td>1.000000</td>\n",
              "      <td>1.000000</td>\n",
              "      <td>1.000000</td>\n",
              "      <td>...</td>\n",
              "      <td>1.000000</td>\n",
              "      <td>1.000000</td>\n",
              "      <td>1.000000</td>\n",
              "      <td>1.000000</td>\n",
              "      <td>1.000000</td>\n",
              "      <td>1.000000</td>\n",
              "      <td>1.000000</td>\n",
              "      <td>1.000000</td>\n",
              "      <td>1.000000</td>\n",
              "      <td>1.000000</td>\n",
              "    </tr>\n",
              "  </tbody>\n",
              "</table>\n",
              "<p>8 rows × 43 columns</p>\n",
              "</div>\n",
              "      <button class=\"colab-df-convert\" onclick=\"convertToInteractive('df-acdd22f5-e410-4fd6-9ebc-5fc5043c2002')\"\n",
              "              title=\"Convert this dataframe to an interactive table.\"\n",
              "              style=\"display:none;\">\n",
              "        \n",
              "  <svg xmlns=\"http://www.w3.org/2000/svg\" height=\"24px\"viewBox=\"0 0 24 24\"\n",
              "       width=\"24px\">\n",
              "    <path d=\"M0 0h24v24H0V0z\" fill=\"none\"/>\n",
              "    <path d=\"M18.56 5.44l.94 2.06.94-2.06 2.06-.94-2.06-.94-.94-2.06-.94 2.06-2.06.94zm-11 1L8.5 8.5l.94-2.06 2.06-.94-2.06-.94L8.5 2.5l-.94 2.06-2.06.94zm10 10l.94 2.06.94-2.06 2.06-.94-2.06-.94-.94-2.06-.94 2.06-2.06.94z\"/><path d=\"M17.41 7.96l-1.37-1.37c-.4-.4-.92-.59-1.43-.59-.52 0-1.04.2-1.43.59L10.3 9.45l-7.72 7.72c-.78.78-.78 2.05 0 2.83L4 21.41c.39.39.9.59 1.41.59.51 0 1.02-.2 1.41-.59l7.78-7.78 2.81-2.81c.8-.78.8-2.07 0-2.86zM5.41 20L4 18.59l7.72-7.72 1.47 1.35L5.41 20z\"/>\n",
              "  </svg>\n",
              "      </button>\n",
              "      \n",
              "  <style>\n",
              "    .colab-df-container {\n",
              "      display:flex;\n",
              "      flex-wrap:wrap;\n",
              "      gap: 12px;\n",
              "    }\n",
              "\n",
              "    .colab-df-convert {\n",
              "      background-color: #E8F0FE;\n",
              "      border: none;\n",
              "      border-radius: 50%;\n",
              "      cursor: pointer;\n",
              "      display: none;\n",
              "      fill: #1967D2;\n",
              "      height: 32px;\n",
              "      padding: 0 0 0 0;\n",
              "      width: 32px;\n",
              "    }\n",
              "\n",
              "    .colab-df-convert:hover {\n",
              "      background-color: #E2EBFA;\n",
              "      box-shadow: 0px 1px 2px rgba(60, 64, 67, 0.3), 0px 1px 3px 1px rgba(60, 64, 67, 0.15);\n",
              "      fill: #174EA6;\n",
              "    }\n",
              "\n",
              "    [theme=dark] .colab-df-convert {\n",
              "      background-color: #3B4455;\n",
              "      fill: #D2E3FC;\n",
              "    }\n",
              "\n",
              "    [theme=dark] .colab-df-convert:hover {\n",
              "      background-color: #434B5C;\n",
              "      box-shadow: 0px 1px 3px 1px rgba(0, 0, 0, 0.15);\n",
              "      filter: drop-shadow(0px 1px 2px rgba(0, 0, 0, 0.3));\n",
              "      fill: #FFFFFF;\n",
              "    }\n",
              "  </style>\n",
              "\n",
              "      <script>\n",
              "        const buttonEl =\n",
              "          document.querySelector('#df-acdd22f5-e410-4fd6-9ebc-5fc5043c2002 button.colab-df-convert');\n",
              "        buttonEl.style.display =\n",
              "          google.colab.kernel.accessAllowed ? 'block' : 'none';\n",
              "\n",
              "        async function convertToInteractive(key) {\n",
              "          const element = document.querySelector('#df-acdd22f5-e410-4fd6-9ebc-5fc5043c2002');\n",
              "          const dataTable =\n",
              "            await google.colab.kernel.invokeFunction('convertToInteractive',\n",
              "                                                     [key], {});\n",
              "          if (!dataTable) return;\n",
              "\n",
              "          const docLinkHtml = 'Like what you see? Visit the ' +\n",
              "            '<a target=\"_blank\" href=https://colab.research.google.com/notebooks/data_table.ipynb>data table notebook</a>'\n",
              "            + ' to learn more about interactive tables.';\n",
              "          element.innerHTML = '';\n",
              "          dataTable['output_type'] = 'display_data';\n",
              "          await google.colab.output.renderOutput(dataTable, element);\n",
              "          const docLink = document.createElement('div');\n",
              "          docLink.innerHTML = docLinkHtml;\n",
              "          element.appendChild(docLink);\n",
              "        }\n",
              "      </script>\n",
              "    </div>\n",
              "  </div>\n",
              "  "
            ]
          },
          "metadata": {},
          "execution_count": 11
        }
      ],
      "source": [
        "data.describe()"
      ]
    },
    {
      "cell_type": "markdown",
      "metadata": {
        "id": "JxxlI_YSft8M"
      },
      "source": [
        "# Cross-correlation and lags"
      ]
    },
    {
      "cell_type": "code",
      "execution_count": 12,
      "metadata": {
        "id": "EZP_8rDTft8M"
      },
      "outputs": [],
      "source": [
        "columns = data.columns\n",
        "Y = data[\"4\"]\n",
        "X = data[columns[y+4:y+9+1]]"
      ]
    },
    {
      "cell_type": "code",
      "execution_count": 13,
      "metadata": {
        "colab": {
          "base_uri": "https://localhost:8080/"
        },
        "id": "GYPDCqhJft8N",
        "outputId": "4a2f3a18-1cf3-416c-e1d6-27efd74e6e12"
      },
      "outputs": [
        {
          "output_type": "execute_result",
          "data": {
            "text/plain": [
              "['8', '9', '10', '11', '12', '13', '4']"
            ]
          },
          "metadata": {},
          "execution_count": 13
        }
      ],
      "source": [
        "index = [i for i in columns[y+4:y+9+1]] + [\"4\"]\n",
        "index"
      ]
    },
    {
      "cell_type": "code",
      "execution_count": 14,
      "metadata": {
        "colab": {
          "base_uri": "https://localhost:8080/"
        },
        "id": "g5q00MkRft8N",
        "outputId": "5b640009-687a-47b5-ad76-795eb6bc5aec"
      },
      "outputs": [
        {
          "output_type": "execute_result",
          "data": {
            "text/plain": [
              "8     0.172646\n",
              "9     0.412943\n",
              "10    0.505280\n",
              "11    0.464706\n",
              "12    0.456030\n",
              "13    0.614059\n",
              "Name: 4, dtype: float64"
            ]
          },
          "metadata": {},
          "execution_count": 14
        }
      ],
      "source": [
        "corr = data[index].corr()[\"4\"].drop([\"4\"])\n",
        "corr"
      ]
    },
    {
      "cell_type": "markdown",
      "metadata": {
        "id": "WTchC6cbft8O"
      },
      "source": [
        "Low correlation for all columns"
      ]
    },
    {
      "cell_type": "code",
      "execution_count": 15,
      "metadata": {
        "colab": {
          "base_uri": "https://localhost:8080/",
          "height": 286
        },
        "id": "Uomwwsmmft8O",
        "outputId": "260dd6b4-085e-425f-e18f-efad3a5b52c2"
      },
      "outputs": [
        {
          "output_type": "execute_result",
          "data": {
            "text/plain": [
              "<matplotlib.axes._subplots.AxesSubplot at 0x7f570f6f6490>"
            ]
          },
          "metadata": {},
          "execution_count": 15
        },
        {
          "output_type": "display_data",
          "data": {
            "text/plain": [
              "<Figure size 432x288 with 2 Axes>"
            ],
            "image/png": "[encoded data removed]"
          },
          "metadata": {
            "needs_background": "light"
          }
        }
      ],
      "source": [
        "sn.heatmap(X.corr(), annot=True)"
      ]
    },
    {
      "cell_type": "markdown",
      "metadata": {
        "id": "rKdjsFa7ft8O"
      },
      "source": [
        "Strongly correlate with each other 9 and 10 columns, as well as 10 and 13"
      ]
    },
    {
      "cell_type": "code",
      "source": [
        "X.columns"
      ],
      "metadata": {
        "colab": {
          "base_uri": "https://localhost:8080/"
        },
        "id": "jCP1w_skk6jb",
        "outputId": "f14305f6-5564-492c-bbd5-fea7f2593c0c"
      },
      "execution_count": 16,
      "outputs": [
        {
          "output_type": "execute_result",
          "data": {
            "text/plain": [
              "Index(['8', '9', '10', '11', '12', '13'], dtype='object')"
            ]
          },
          "metadata": {},
          "execution_count": 16
        }
      ]
    },
    {
      "cell_type": "markdown",
      "source": [
        "The time shift from 5 to 12 lags is considered, the results are shown in the table for each regressor"
      ],
      "metadata": {
        "id": "GnHbZvOcqX7z"
      }
    },
    {
      "cell_type": "code",
      "execution_count": 32,
      "metadata": {
        "colab": {
          "base_uri": "https://localhost:8080/",
          "height": 300
        },
        "id": "YwxrfB7bft8P",
        "outputId": "92694dfe-dc21-4b37-b741-357de50f5df5"
      },
      "outputs": [
        {
          "output_type": "execute_result",
          "data": {
            "text/plain": [
              "           8         9        10        11        12        13\n",
              "5   0.174039  0.421644  0.508483  0.470396  0.455525  0.606304\n",
              "6   0.173629  0.423086  0.509206  0.471048  0.455431  0.604882\n",
              "7   0.173691  0.423726  0.509963  0.471558  0.455213  0.603862\n",
              "8   0.173479  0.424309  0.510539  0.472203  0.455008  0.603062\n",
              "9   0.173541  0.424932  0.510801  0.472833  0.454511  0.601329\n",
              "10  0.173614  0.425697  0.511189  0.473114  0.454102  0.599783\n",
              "11  0.173363  0.426385  0.511406  0.473148  0.453735  0.598092\n",
              "12  0.173604  0.426909  0.511770  0.473463  0.453384  0.597402"
            ],
            "text/html": [
              "\n",
              "  <div id=\"df-27030c68-48c1-4f0f-8ef6-304ba495b368\">\n",
              "    <div class=\"colab-df-container\">\n",
              "      <div>\n",
              "<style scoped>\n",
              "    .dataframe tbody tr th:only-of-type {\n",
              "        vertical-align: middle;\n",
              "    }\n",
              "\n",
              "    .dataframe tbody tr th {\n",
              "        vertical-align: top;\n",
              "    }\n",
              "\n",
              "    .dataframe thead th {\n",
              "        text-align: right;\n",
              "    }\n",
              "</style>\n",
              "<table border=\"1\" class=\"dataframe\">\n",
              "  <thead>\n",
              "    <tr style=\"text-align: right;\">\n",
              "      <th></th>\n",
              "      <th>8</th>\n",
              "      <th>9</th>\n",
              "      <th>10</th>\n",
              "      <th>11</th>\n",
              "      <th>12</th>\n",
              "      <th>13</th>\n",
              "    </tr>\n",
              "  </thead>\n",
              "  <tbody>\n",
              "    <tr>\n",
              "      <th>5</th>\n",
              "      <td>0.174039</td>\n",
              "      <td>0.421644</td>\n",
              "      <td>0.508483</td>\n",
              "      <td>0.470396</td>\n",
              "      <td>0.455525</td>\n",
              "      <td>0.606304</td>\n",
              "    </tr>\n",
              "    <tr>\n",
              "      <th>6</th>\n",
              "      <td>0.173629</td>\n",
              "      <td>0.423086</td>\n",
              "      <td>0.509206</td>\n",
              "      <td>0.471048</td>\n",
              "      <td>0.455431</td>\n",
              "      <td>0.604882</td>\n",
              "    </tr>\n",
              "    <tr>\n",
              "      <th>7</th>\n",
              "      <td>0.173691</td>\n",
              "      <td>0.423726</td>\n",
              "      <td>0.509963</td>\n",
              "      <td>0.471558</td>\n",
              "      <td>0.455213</td>\n",
              "      <td>0.603862</td>\n",
              "    </tr>\n",
              "    <tr>\n",
              "      <th>8</th>\n",
              "      <td>0.173479</td>\n",
              "      <td>0.424309</td>\n",
              "      <td>0.510539</td>\n",
              "      <td>0.472203</td>\n",
              "      <td>0.455008</td>\n",
              "      <td>0.603062</td>\n",
              "    </tr>\n",
              "    <tr>\n",
              "      <th>9</th>\n",
              "      <td>0.173541</td>\n",
              "      <td>0.424932</td>\n",
              "      <td>0.510801</td>\n",
              "      <td>0.472833</td>\n",
              "      <td>0.454511</td>\n",
              "      <td>0.601329</td>\n",
              "    </tr>\n",
              "    <tr>\n",
              "      <th>10</th>\n",
              "      <td>0.173614</td>\n",
              "      <td>0.425697</td>\n",
              "      <td>0.511189</td>\n",
              "      <td>0.473114</td>\n",
              "      <td>0.454102</td>\n",
              "      <td>0.599783</td>\n",
              "    </tr>\n",
              "    <tr>\n",
              "      <th>11</th>\n",
              "      <td>0.173363</td>\n",
              "      <td>0.426385</td>\n",
              "      <td>0.511406</td>\n",
              "      <td>0.473148</td>\n",
              "      <td>0.453735</td>\n",
              "      <td>0.598092</td>\n",
              "    </tr>\n",
              "    <tr>\n",
              "      <th>12</th>\n",
              "      <td>0.173604</td>\n",
              "      <td>0.426909</td>\n",
              "      <td>0.511770</td>\n",
              "      <td>0.473463</td>\n",
              "      <td>0.453384</td>\n",
              "      <td>0.597402</td>\n",
              "    </tr>\n",
              "  </tbody>\n",
              "</table>\n",
              "</div>\n",
              "      <button class=\"colab-df-convert\" onclick=\"convertToInteractive('df-27030c68-48c1-4f0f-8ef6-304ba495b368')\"\n",
              "              title=\"Convert this dataframe to an interactive table.\"\n",
              "              style=\"display:none;\">\n",
              "        \n",
              "  <svg xmlns=\"http://www.w3.org/2000/svg\" height=\"24px\"viewBox=\"0 0 24 24\"\n",
              "       width=\"24px\">\n",
              "    <path d=\"M0 0h24v24H0V0z\" fill=\"none\"/>\n",
              "    <path d=\"M18.56 5.44l.94 2.06.94-2.06 2.06-.94-2.06-.94-.94-2.06-.94 2.06-2.06.94zm-11 1L8.5 8.5l.94-2.06 2.06-.94-2.06-.94L8.5 2.5l-.94 2.06-2.06.94zm10 10l.94 2.06.94-2.06 2.06-.94-2.06-.94-.94-2.06-.94 2.06-2.06.94z\"/><path d=\"M17.41 7.96l-1.37-1.37c-.4-.4-.92-.59-1.43-.59-.52 0-1.04.2-1.43.59L10.3 9.45l-7.72 7.72c-.78.78-.78 2.05 0 2.83L4 21.41c.39.39.9.59 1.41.59.51 0 1.02-.2 1.41-.59l7.78-7.78 2.81-2.81c.8-.78.8-2.07 0-2.86zM5.41 20L4 18.59l7.72-7.72 1.47 1.35L5.41 20z\"/>\n",
              "  </svg>\n",
              "      </button>\n",
              "      \n",
              "  <style>\n",
              "    .colab-df-container {\n",
              "      display:flex;\n",
              "      flex-wrap:wrap;\n",
              "      gap: 12px;\n",
              "    }\n",
              "\n",
              "    .colab-df-convert {\n",
              "      background-color: #E8F0FE;\n",
              "      border: none;\n",
              "      border-radius: 50%;\n",
              "      cursor: pointer;\n",
              "      display: none;\n",
              "      fill: #1967D2;\n",
              "      height: 32px;\n",
              "      padding: 0 0 0 0;\n",
              "      width: 32px;\n",
              "    }\n",
              "\n",
              "    .colab-df-convert:hover {\n",
              "      background-color: #E2EBFA;\n",
              "      box-shadow: 0px 1px 2px rgba(60, 64, 67, 0.3), 0px 1px 3px 1px rgba(60, 64, 67, 0.15);\n",
              "      fill: #174EA6;\n",
              "    }\n",
              "\n",
              "    [theme=dark] .colab-df-convert {\n",
              "      background-color: #3B4455;\n",
              "      fill: #D2E3FC;\n",
              "    }\n",
              "\n",
              "    [theme=dark] .colab-df-convert:hover {\n",
              "      background-color: #434B5C;\n",
              "      box-shadow: 0px 1px 3px 1px rgba(0, 0, 0, 0.15);\n",
              "      filter: drop-shadow(0px 1px 2px rgba(0, 0, 0, 0.3));\n",
              "      fill: #FFFFFF;\n",
              "    }\n",
              "  </style>\n",
              "\n",
              "      <script>\n",
              "        const buttonEl =\n",
              "          document.querySelector('#df-27030c68-48c1-4f0f-8ef6-304ba495b368 button.colab-df-convert');\n",
              "        buttonEl.style.display =\n",
              "          google.colab.kernel.accessAllowed ? 'block' : 'none';\n",
              "\n",
              "        async function convertToInteractive(key) {\n",
              "          const element = document.querySelector('#df-27030c68-48c1-4f0f-8ef6-304ba495b368');\n",
              "          const dataTable =\n",
              "            await google.colab.kernel.invokeFunction('convertToInteractive',\n",
              "                                                     [key], {});\n",
              "          if (!dataTable) return;\n",
              "\n",
              "          const docLinkHtml = 'Like what you see? Visit the ' +\n",
              "            '<a target=\"_blank\" href=https://colab.research.google.com/notebooks/data_table.ipynb>data table notebook</a>'\n",
              "            + ' to learn more about interactive tables.';\n",
              "          element.innerHTML = '';\n",
              "          dataTable['output_type'] = 'display_data';\n",
              "          await google.colab.output.renderOutput(dataTable, element);\n",
              "          const docLink = document.createElement('div');\n",
              "          docLink.innerHTML = docLinkHtml;\n",
              "          element.appendChild(docLink);\n",
              "        }\n",
              "      </script>\n",
              "    </div>\n",
              "  </div>\n",
              "  "
            ]
          },
          "metadata": {},
          "execution_count": 32
        }
      ],
      "source": [
        "corr = pd.DataFrame([sm.tsa.stattools.ccf(X[i], Y, adjusted=False)[5:13] for i in X.columns], columns = [i for i in range(5,13)], index = X.columns).T\n",
        "corr"
      ]
    },
    {
      "cell_type": "code",
      "source": [
        "for i in corr:\n",
        "    corr[i].plot()\n",
        "    plt.title(i)\n",
        "    plt.show()"
      ],
      "metadata": {
        "colab": {
          "base_uri": "https://localhost:8080/",
          "height": 1000
        },
        "id": "I5vYvIIarPOw",
        "outputId": "6361e1a0-d21d-41c7-fdef-ba4e68695271"
      },
      "execution_count": 33,
      "outputs": [
        {
          "output_type": "display_data",
          "data": {
            "text/plain": [
              "<Figure size 432x288 with 1 Axes>"
            ],
            "image/png": "[encoded data removed]"
          },
          "metadata": {
            "needs_background": "light"
          }
        },
        {
          "output_type": "display_data",
          "data": {
            "text/plain": [
              "<Figure size 432x288 with 1 Axes>"
            ],
            "image/png": "[encoded data removed]"
          },
          "metadata": {
            "needs_background": "light"
          }
        },
        {
          "output_type": "display_data",
          "data": {
            "text/plain": [
              "<Figure size 432x288 with 1 Axes>"
            ],
            "image/png": "[encoded data removed]"
          },
          "metadata": {
            "needs_background": "light"
          }
        },
        {
          "output_type": "display_data",
          "data": {
            "text/plain": [
              "<Figure size 432x288 with 1 Axes>"
            ],
            "image/png": "[encoded data removed]"
          },
          "metadata": {
            "needs_background": "light"
          }
        },
        {
          "output_type": "display_data",
          "data": {
            "text/plain": [
              "<Figure size 432x288 with 1 Axes>"
            ],
            "image/png": "[encoded data removed]"
          },
          "metadata": {
            "needs_background": "light"
          }
        },
        {
          "output_type": "display_data",
          "data": {
            "text/plain": [
              "<Figure size 432x288 with 1 Axes>"
            ],
            "image/png": "[encoded data removed]"
          },
          "metadata": {
            "needs_background": "light"
          }
        }
      ]
    },
    {
      "cell_type": "markdown",
      "source": [
        "\n",
        "\n",
        "\n",
        "\n",
        "*   The plot for Column 8 drops sharply and shows a discontinuous decrease in correlation.\n",
        "*   The graphs for columns 9, 10 and 11 shows a rapid increase in correlation with increasing lags.\n",
        "*   Graphs 12 and 13 columns show a rapid decrease in correlation with increasing lags.\n",
        "\n"
      ],
      "metadata": {
        "id": "Ss2kQ-c4robL"
      }
    },
    {
      "cell_type": "code",
      "execution_count": 35,
      "metadata": {
        "id": "wOhiW2fKft8P"
      },
      "outputs": [],
      "source": [
        "def stat_test(X):\n",
        "  test = sm.tsa.adfuller(Y)\n",
        "  print('adf: ', test[0])\n",
        "  print('p-value: ', test[1])\n",
        "  print('Critical values: ', test[4])\n",
        "  if test[0]> test[4]['5%']: \n",
        "      print('has unit roots, the series is not stationary')\n",
        "  else:\n",
        "      print('there are no unit roots, the series is stationary')"
      ]
    },
    {
      "cell_type": "code",
      "source": [
        "print(\"dependent series Y\")\n",
        "stat_test(Y)\n",
        "print()\n",
        "for i in X.columns:\n",
        "    print(\"Regressor X:\" + i)\n",
        "    stat_test(X[i])\n",
        "    print()"
      ],
      "metadata": {
        "colab": {
          "base_uri": "https://localhost:8080/"
        },
        "id": "w1q649xktBWa",
        "outputId": "54430c60-a801-4320-f696-80b451c83d1f"
      },
      "execution_count": 38,
      "outputs": [
        {
          "output_type": "stream",
          "name": "stdout",
          "text": [
            "dependent series Y\n",
            "adf:  -11.824274657455307\n",
            "p-value:  8.274139990534293e-22\n",
            "Critical values:  {'1%': -3.430410041262307, '5%': -2.8615665373212145, '10%': -2.566784124883309}\n",
            "there are no unit roots, the series is stationary\n",
            "\n",
            "Regressor X:8\n",
            "adf:  -11.824274657455307\n",
            "p-value:  8.274139990534293e-22\n",
            "Critical values:  {'1%': -3.430410041262307, '5%': -2.8615665373212145, '10%': -2.566784124883309}\n",
            "there are no unit roots, the series is stationary\n",
            "\n",
            "Regressor X:9\n",
            "adf:  -11.824274657455307\n",
            "p-value:  8.274139990534293e-22\n",
            "Critical values:  {'1%': -3.430410041262307, '5%': -2.8615665373212145, '10%': -2.566784124883309}\n",
            "there are no unit roots, the series is stationary\n",
            "\n",
            "Regressor X:10\n",
            "adf:  -11.824274657455307\n",
            "p-value:  8.274139990534293e-22\n",
            "Critical values:  {'1%': -3.430410041262307, '5%': -2.8615665373212145, '10%': -2.566784124883309}\n",
            "there are no unit roots, the series is stationary\n",
            "\n",
            "Regressor X:11\n",
            "adf:  -11.824274657455307\n",
            "p-value:  8.274139990534293e-22\n",
            "Critical values:  {'1%': -3.430410041262307, '5%': -2.8615665373212145, '10%': -2.566784124883309}\n",
            "there are no unit roots, the series is stationary\n",
            "\n",
            "Regressor X:12\n",
            "adf:  -11.824274657455307\n",
            "p-value:  8.274139990534293e-22\n",
            "Critical values:  {'1%': -3.430410041262307, '5%': -2.8615665373212145, '10%': -2.566784124883309}\n",
            "there are no unit roots, the series is stationary\n",
            "\n",
            "Regressor X:13\n",
            "adf:  -11.824274657455307\n",
            "p-value:  8.274139990534293e-22\n",
            "Critical values:  {'1%': -3.430410041262307, '5%': -2.8615665373212145, '10%': -2.566784124883309}\n",
            "there are no unit roots, the series is stationary\n",
            "\n"
          ]
        }
      ]
    },
    {
      "cell_type": "code",
      "source": [
        "Y.plot()"
      ],
      "metadata": {
        "colab": {
          "base_uri": "https://localhost:8080/",
          "height": 282
        },
        "id": "af1tBhjdtZ2z",
        "outputId": "cff0491b-9efe-4e7c-e3f5-7863c0695dce"
      },
      "execution_count": 39,
      "outputs": [
        {
          "output_type": "execute_result",
          "data": {
            "text/plain": [
              "<matplotlib.axes._subplots.AxesSubplot at 0x7f570bb77250>"
            ]
          },
          "metadata": {},
          "execution_count": 39
        },
        {
          "output_type": "display_data",
          "data": {
            "text/plain": [
              "<Figure size 432x288 with 1 Axes>"
            ],
            "image/png": "[encoded data removed]"
          },
          "metadata": {
            "needs_background": "light"
          }
        }
      ]
    },
    {
      "cell_type": "code",
      "source": [
        "X.plot(subplots=True, figsize=(16, 12))"
      ],
      "metadata": {
        "colab": {
          "base_uri": "https://localhost:8080/",
          "height": 821
        },
        "id": "JCQCuxXftcKS",
        "outputId": "8ca62cbf-01f5-4834-8b41-4efb7ab17ecd"
      },
      "execution_count": 40,
      "outputs": [
        {
          "output_type": "execute_result",
          "data": {
            "text/plain": [
              "array([<matplotlib.axes._subplots.AxesSubplot object at 0x7f57081c07d0>,\n",
              "       <matplotlib.axes._subplots.AxesSubplot object at 0x7f57081a06d0>,\n",
              "       <matplotlib.axes._subplots.AxesSubplot object at 0x7f5707e05950>,\n",
              "       <matplotlib.axes._subplots.AxesSubplot object at 0x7f5707e6edd0>,\n",
              "       <matplotlib.axes._subplots.AxesSubplot object at 0x7f5707fd9a90>,\n",
              "       <matplotlib.axes._subplots.AxesSubplot object at 0x7f5708218050>],\n",
              "      dtype=object)"
            ]
          },
          "metadata": {},
          "execution_count": 40
        },
        {
          "output_type": "display_data",
          "data": {
            "text/plain": [
              "<Figure size 1152x864 with 6 Axes>"
            ],
            "image/png": "[encoded data removed]"
          },
          "metadata": {
            "needs_background": "light"
          }
        }
      ]
    },
    {
      "cell_type": "markdown",
      "source": [
        "# Statistical study of series"
      ],
      "metadata": {
        "id": "nEqnTt_3p9L5"
      }
    },
    {
      "cell_type": "code",
      "source": [
        "fig, axes = plt.subplots(nrows=4, ncols=2, dpi=120, figsize=(10,6))\n",
        "for i, ax in enumerate(axes.flatten()):\n",
        "    data = X\n",
        "    ax.plot(data, color='red', linewidth=1)\n",
        "    # Decorations\n",
        "    ax.set_title(i)\n",
        "    ax.xaxis.set_ticks_position('none')\n",
        "    ax.yaxis.set_ticks_position('none')\n",
        "    ax.spines[\"top\"].set_alpha(0)\n",
        "    ax.tick_params(labelsize=6)\n",
        "\n",
        "plt.tight_layout();"
      ],
      "metadata": {
        "colab": {
          "base_uri": "https://localhost:8080/",
          "height": 680
        },
        "id": "s2s3t0Zjp-xW",
        "outputId": "52124cc7-3ee5-4742-fa06-e4b884d1f269"
      },
      "execution_count": 53,
      "outputs": [
        {
          "output_type": "display_data",
          "data": {
            "text/plain": [
              "<Figure size 1200x720 with 8 Axes>"
            ],
            "image/png": "[encoded data removed]"
          },
          "metadata": {
            "needs_background": "light"
          }
        }
      ]
    },
    {
      "cell_type": "code",
      "source": [
        "from statsmodels.tsa.stattools import grangercausalitytests\n",
        "maxlag=12\n",
        "test = 'ssr_chi2test'\n",
        "def grangers_causation_matrix(data, variables, test='ssr_chi2test', verbose=False):    \n",
        "    \"\"\"Check Granger Causality of all possible combinations of the Time series.\n",
        "    The rows are the response variable, columns are predictors. The values in the table \n",
        "    are the P-Values. P-Values lesser than the significance level (0.05), implies \n",
        "    the Null Hypothesis that the coefficients of the corresponding past values is \n",
        "    zero, that is, the X does not cause Y can be rejected.\n",
        "\n",
        "    data      : pandas dataframe containing the time series variables\n",
        "    variables : list containing names of the time series variables.\n",
        "    \"\"\"\n",
        "    df = pd.DataFrame(np.zeros((len(variables), len(variables))), columns=variables, index=variables)\n",
        "    for c in df.columns:\n",
        "        for r in df.index:\n",
        "            test_result = grangercausalitytests(data[[r, c]], maxlag=maxlag, verbose=False)\n",
        "            p_values = [round(test_result[i+1][0][test][1],4) for i in range(maxlag)]\n",
        "            if verbose: print(f'Y = {r}, X = {c}, P Values = {p_values}')\n",
        "            min_p_value = np.min(p_values)\n",
        "            df.loc[r, c] = min_p_value\n",
        "    df.columns = [var + '_x' for var in variables]\n",
        "    df.index = [var + '_y' for var in variables]\n",
        "    return df\n",
        "\n",
        "grangers_causation_matrix(X, variables = X.columns)"
      ],
      "metadata": {
        "colab": {
          "base_uri": "https://localhost:8080/",
          "height": 237
        },
        "id": "KWBCPHAouotd",
        "outputId": "9b341498-820c-4c5d-9ae3-4c1d7f213ffd"
      },
      "execution_count": 55,
      "outputs": [
        {
          "output_type": "execute_result",
          "data": {
            "text/plain": [
              "      8_x  9_x  10_x  11_x  12_x  13_x\n",
              "8_y   1.0  0.0   0.0   0.0   0.0   0.0\n",
              "9_y   0.0  1.0   0.0   0.0   0.0   0.0\n",
              "10_y  0.0  0.0   1.0   0.0   0.0   0.0\n",
              "11_y  0.0  0.0   0.0   1.0   0.0   0.0\n",
              "12_y  0.0  0.0   0.0   0.0   1.0   0.0\n",
              "13_y  0.0  0.0   0.0   0.0   0.0   1.0"
            ],
            "text/html": [
              "\n",
              "  <div id=\"df-99970f25-cf0d-4a99-ab04-e3335fe3bddc\">\n",
              "    <div class=\"colab-df-container\">\n",
              "      <div>\n",
              "<style scoped>\n",
              "    .dataframe tbody tr th:only-of-type {\n",
              "        vertical-align: middle;\n",
              "    }\n",
              "\n",
              "    .dataframe tbody tr th {\n",
              "        vertical-align: top;\n",
              "    }\n",
              "\n",
              "    .dataframe thead th {\n",
              "        text-align: right;\n",
              "    }\n",
              "</style>\n",
              "<table border=\"1\" class=\"dataframe\">\n",
              "  <thead>\n",
              "    <tr style=\"text-align: right;\">\n",
              "      <th></th>\n",
              "      <th>8_x</th>\n",
              "      <th>9_x</th>\n",
              "      <th>10_x</th>\n",
              "      <th>11_x</th>\n",
              "      <th>12_x</th>\n",
              "      <th>13_x</th>\n",
              "    </tr>\n",
              "  </thead>\n",
              "  <tbody>\n",
              "    <tr>\n",
              "      <th>8_y</th>\n",
              "      <td>1.0</td>\n",
              "      <td>0.0</td>\n",
              "      <td>0.0</td>\n",
              "      <td>0.0</td>\n",
              "      <td>0.0</td>\n",
              "      <td>0.0</td>\n",
              "    </tr>\n",
              "    <tr>\n",
              "      <th>9_y</th>\n",
              "      <td>0.0</td>\n",
              "      <td>1.0</td>\n",
              "      <td>0.0</td>\n",
              "      <td>0.0</td>\n",
              "      <td>0.0</td>\n",
              "      <td>0.0</td>\n",
              "    </tr>\n",
              "    <tr>\n",
              "      <th>10_y</th>\n",
              "      <td>0.0</td>\n",
              "      <td>0.0</td>\n",
              "      <td>1.0</td>\n",
              "      <td>0.0</td>\n",
              "      <td>0.0</td>\n",
              "      <td>0.0</td>\n",
              "    </tr>\n",
              "    <tr>\n",
              "      <th>11_y</th>\n",
              "      <td>0.0</td>\n",
              "      <td>0.0</td>\n",
              "      <td>0.0</td>\n",
              "      <td>1.0</td>\n",
              "      <td>0.0</td>\n",
              "      <td>0.0</td>\n",
              "    </tr>\n",
              "    <tr>\n",
              "      <th>12_y</th>\n",
              "      <td>0.0</td>\n",
              "      <td>0.0</td>\n",
              "      <td>0.0</td>\n",
              "      <td>0.0</td>\n",
              "      <td>1.0</td>\n",
              "      <td>0.0</td>\n",
              "    </tr>\n",
              "    <tr>\n",
              "      <th>13_y</th>\n",
              "      <td>0.0</td>\n",
              "      <td>0.0</td>\n",
              "      <td>0.0</td>\n",
              "      <td>0.0</td>\n",
              "      <td>0.0</td>\n",
              "      <td>1.0</td>\n",
              "    </tr>\n",
              "  </tbody>\n",
              "</table>\n",
              "</div>\n",
              "      <button class=\"colab-df-convert\" onclick=\"convertToInteractive('df-99970f25-cf0d-4a99-ab04-e3335fe3bddc')\"\n",
              "              title=\"Convert this dataframe to an interactive table.\"\n",
              "              style=\"display:none;\">\n",
              "        \n",
              "  <svg xmlns=\"http://www.w3.org/2000/svg\" height=\"24px\"viewBox=\"0 0 24 24\"\n",
              "       width=\"24px\">\n",
              "    <path d=\"M0 0h24v24H0V0z\" fill=\"none\"/>\n",
              "    <path d=\"M18.56 5.44l.94 2.06.94-2.06 2.06-.94-2.06-.94-.94-2.06-.94 2.06-2.06.94zm-11 1L8.5 8.5l.94-2.06 2.06-.94-2.06-.94L8.5 2.5l-.94 2.06-2.06.94zm10 10l.94 2.06.94-2.06 2.06-.94-2.06-.94-.94-2.06-.94 2.06-2.06.94z\"/><path d=\"M17.41 7.96l-1.37-1.37c-.4-.4-.92-.59-1.43-.59-.52 0-1.04.2-1.43.59L10.3 9.45l-7.72 7.72c-.78.78-.78 2.05 0 2.83L4 21.41c.39.39.9.59 1.41.59.51 0 1.02-.2 1.41-.59l7.78-7.78 2.81-2.81c.8-.78.8-2.07 0-2.86zM5.41 20L4 18.59l7.72-7.72 1.47 1.35L5.41 20z\"/>\n",
              "  </svg>\n",
              "      </button>\n",
              "      \n",
              "  <style>\n",
              "    .colab-df-container {\n",
              "      display:flex;\n",
              "      flex-wrap:wrap;\n",
              "      gap: 12px;\n",
              "    }\n",
              "\n",
              "    .colab-df-convert {\n",
              "      background-color: #E8F0FE;\n",
              "      border: none;\n",
              "      border-radius: 50%;\n",
              "      cursor: pointer;\n",
              "      display: none;\n",
              "      fill: #1967D2;\n",
              "      height: 32px;\n",
              "      padding: 0 0 0 0;\n",
              "      width: 32px;\n",
              "    }\n",
              "\n",
              "    .colab-df-convert:hover {\n",
              "      background-color: #E2EBFA;\n",
              "      box-shadow: 0px 1px 2px rgba(60, 64, 67, 0.3), 0px 1px 3px 1px rgba(60, 64, 67, 0.15);\n",
              "      fill: #174EA6;\n",
              "    }\n",
              "\n",
              "    [theme=dark] .colab-df-convert {\n",
              "      background-color: #3B4455;\n",
              "      fill: #D2E3FC;\n",
              "    }\n",
              "\n",
              "    [theme=dark] .colab-df-convert:hover {\n",
              "      background-color: #434B5C;\n",
              "      box-shadow: 0px 1px 3px 1px rgba(0, 0, 0, 0.15);\n",
              "      filter: drop-shadow(0px 1px 2px rgba(0, 0, 0, 0.3));\n",
              "      fill: #FFFFFF;\n",
              "    }\n",
              "  </style>\n",
              "\n",
              "      <script>\n",
              "        const buttonEl =\n",
              "          document.querySelector('#df-99970f25-cf0d-4a99-ab04-e3335fe3bddc button.colab-df-convert');\n",
              "        buttonEl.style.display =\n",
              "          google.colab.kernel.accessAllowed ? 'block' : 'none';\n",
              "\n",
              "        async function convertToInteractive(key) {\n",
              "          const element = document.querySelector('#df-99970f25-cf0d-4a99-ab04-e3335fe3bddc');\n",
              "          const dataTable =\n",
              "            await google.colab.kernel.invokeFunction('convertToInteractive',\n",
              "                                                     [key], {});\n",
              "          if (!dataTable) return;\n",
              "\n",
              "          const docLinkHtml = 'Like what you see? Visit the ' +\n",
              "            '<a target=\"_blank\" href=https://colab.research.google.com/notebooks/data_table.ipynb>data table notebook</a>'\n",
              "            + ' to learn more about interactive tables.';\n",
              "          element.innerHTML = '';\n",
              "          dataTable['output_type'] = 'display_data';\n",
              "          await google.colab.output.renderOutput(dataTable, element);\n",
              "          const docLink = document.createElement('div');\n",
              "          docLink.innerHTML = docLinkHtml;\n",
              "          element.appendChild(docLink);\n",
              "        }\n",
              "      </script>\n",
              "    </div>\n",
              "  </div>\n",
              "  "
            ]
          },
          "metadata": {},
          "execution_count": 55
        }
      ]
    },
    {
      "cell_type": "code",
      "source": [
        "from statsmodels.tsa.api import VAR\n",
        "from statsmodels.tsa.stattools import adfuller\n",
        "from statsmodels.tools.eval_measures import rmse, aic"
      ],
      "metadata": {
        "id": "d7uy7IBixgtu"
      },
      "execution_count": 56,
      "outputs": []
    },
    {
      "cell_type": "code",
      "source": [
        "from statsmodels.tsa.vector_ar.vecm import coint_johansen\n",
        "\n",
        "def cointegration_test(df, alpha=0.05): \n",
        "    \"\"\"Perform Johanson's Cointegration Test and Report Summary\"\"\"\n",
        "    out = coint_johansen(df,-1,5)\n",
        "    d = {'0.90':0, '0.95':1, '0.99':2}\n",
        "    traces = out.lr1\n",
        "    cvts = out.cvt[:, d[str(1-alpha)]]\n",
        "    def adjust(val, length= 6): return str(val).ljust(length)\n",
        "\n",
        "    # Summary\n",
        "    print('Name   ::  Test Stat > C(95%)    =>   Signif  \\n', '--'*20)\n",
        "    for col, trace, cvt in zip(df.columns, traces, cvts):\n",
        "        print(adjust(col), ':: ', adjust(round(trace,2), 9), \">\", adjust(cvt, 8), ' =>  ' , trace > cvt)\n",
        "\n",
        "cointegration_test(X)"
      ],
      "metadata": {
        "colab": {
          "base_uri": "https://localhost:8080/"
        },
        "id": "uhnhs1Xou6YH",
        "outputId": "d57d9394-0ba0-4a26-cb5a-71ef12d0981b"
      },
      "execution_count": 57,
      "outputs": [
        {
          "output_type": "stream",
          "name": "stdout",
          "text": [
            "Name   ::  Test Stat > C(95%)    =>   Signif  \n",
            " ----------------------------------------\n",
            "8      ::  3622.01   > 83.9383   =>   True\n",
            "9      ::  2416.5    > 60.0627   =>   True\n",
            "10     ::  1401.41   > 40.1749   =>   True\n",
            "11     ::  604.78    > 24.2761   =>   True\n",
            "12     ::  204.87    > 12.3212   =>   True\n",
            "13     ::  3.65      > 4.1296    =>   False\n"
          ]
        }
      ]
    },
    {
      "cell_type": "code",
      "source": [
        "def adfuller_test(series, signif=0.05, name='', verbose=False):\n",
        "    \"\"\"Perform ADFuller to test for Stationarity of given series and print report\"\"\"\n",
        "    r = adfuller(series, autolag='AIC')\n",
        "    output = {'test_statistic':round(r[0], 4), 'pvalue':round(r[1], 4), 'n_lags':round(r[2], 4), 'n_obs':r[3]}\n",
        "    p_value = output['pvalue'] \n",
        "    def adjust(val, length= 6): return str(val).ljust(length)\n",
        "\n",
        "    # Print Summary\n",
        "    print(f'    Augmented Dickey-Fuller Test on \"{name}\"', \"\\n   \", '-'*47)\n",
        "    print(f' Null Hypothesis: Data has unit root. Non-Stationary.')\n",
        "    print(f' Significance Level    = {signif}')\n",
        "    print(f' Test Statistic        = {output[\"test_statistic\"]}')\n",
        "    print(f' No. Lags Chosen       = {output[\"n_lags\"]}')\n",
        "\n",
        "    for key,val in r[4].items():\n",
        "        print(f' Critical value {adjust(key)} = {round(val, 3)}')\n",
        "\n",
        "    if p_value <= signif:\n",
        "        print(f\" => P-Value = {p_value}. Rejecting Null Hypothesis.\")\n",
        "        print(f\" => Series is Stationary.\")\n",
        "    else:\n",
        "        print(f\" => P-Value = {p_value}. Weak evidence to reject the Null Hypothesis.\")\n",
        "        print(f\" => Series is Non-Stationary.\")  "
      ],
      "metadata": {
        "id": "nJgZAJM3vFDL"
      },
      "execution_count": 58,
      "outputs": []
    },
    {
      "cell_type": "code",
      "source": [
        "for name, column in X.iteritems():\n",
        "    adfuller_test(column, name=column.name)\n",
        "    print('\\n')"
      ],
      "metadata": {
        "colab": {
          "base_uri": "https://localhost:8080/"
        },
        "id": "p42zZ93IvJz6",
        "outputId": "b2040a82-dc88-4ea8-e620-44bf92225ee8"
      },
      "execution_count": 59,
      "outputs": [
        {
          "output_type": "stream",
          "name": "stdout",
          "text": [
            "    Augmented Dickey-Fuller Test on \"8\" \n",
            "    -----------------------------------------------\n",
            " Null Hypothesis: Data has unit root. Non-Stationary.\n",
            " Significance Level    = 0.05\n",
            " Test Statistic        = -9.5901\n",
            " No. Lags Chosen       = 69\n",
            " Critical value 1%     = -3.43\n",
            " Critical value 5%     = -2.862\n",
            " Critical value 10%    = -2.567\n",
            " => P-Value = 0.0. Rejecting Null Hypothesis.\n",
            " => Series is Stationary.\n",
            "\n",
            "\n",
            "    Augmented Dickey-Fuller Test on \"9\" \n",
            "    -----------------------------------------------\n",
            " Null Hypothesis: Data has unit root. Non-Stationary.\n",
            " Significance Level    = 0.05\n",
            " Test Statistic        = -9.3279\n",
            " No. Lags Chosen       = 69\n",
            " Critical value 1%     = -3.43\n",
            " Critical value 5%     = -2.862\n",
            " Critical value 10%    = -2.567\n",
            " => P-Value = 0.0. Rejecting Null Hypothesis.\n",
            " => Series is Stationary.\n",
            "\n",
            "\n",
            "    Augmented Dickey-Fuller Test on \"10\" \n",
            "    -----------------------------------------------\n",
            " Null Hypothesis: Data has unit root. Non-Stationary.\n",
            " Significance Level    = 0.05\n",
            " Test Statistic        = -2.0834\n",
            " No. Lags Chosen       = 69\n",
            " Critical value 1%     = -3.43\n",
            " Critical value 5%     = -2.862\n",
            " Critical value 10%    = -2.567\n",
            " => P-Value = 0.2512. Weak evidence to reject the Null Hypothesis.\n",
            " => Series is Non-Stationary.\n",
            "\n",
            "\n",
            "    Augmented Dickey-Fuller Test on \"11\" \n",
            "    -----------------------------------------------\n",
            " Null Hypothesis: Data has unit root. Non-Stationary.\n",
            " Significance Level    = 0.05\n",
            " Test Statistic        = -9.2678\n",
            " No. Lags Chosen       = 69\n",
            " Critical value 1%     = -3.43\n",
            " Critical value 5%     = -2.862\n",
            " Critical value 10%    = -2.567\n",
            " => P-Value = 0.0. Rejecting Null Hypothesis.\n",
            " => Series is Stationary.\n",
            "\n",
            "\n",
            "    Augmented Dickey-Fuller Test on \"12\" \n",
            "    -----------------------------------------------\n",
            " Null Hypothesis: Data has unit root. Non-Stationary.\n",
            " Significance Level    = 0.05\n",
            " Test Statistic        = -9.874\n",
            " No. Lags Chosen       = 69\n",
            " Critical value 1%     = -3.43\n",
            " Critical value 5%     = -2.862\n",
            " Critical value 10%    = -2.567\n",
            " => P-Value = 0.0. Rejecting Null Hypothesis.\n",
            " => Series is Stationary.\n",
            "\n",
            "\n",
            "    Augmented Dickey-Fuller Test on \"13\" \n",
            "    -----------------------------------------------\n",
            " Null Hypothesis: Data has unit root. Non-Stationary.\n",
            " Significance Level    = 0.05\n",
            " Test Statistic        = -9.2016\n",
            " No. Lags Chosen       = 69\n",
            " Critical value 1%     = -3.43\n",
            " Critical value 5%     = -2.862\n",
            " Critical value 10%    = -2.567\n",
            " => P-Value = 0.0. Rejecting Null Hypothesis.\n",
            " => Series is Stationary.\n",
            "\n",
            "\n"
          ]
        }
      ]
    },
    {
      "cell_type": "markdown",
      "source": [
        "# ARMAX model"
      ],
      "metadata": {
        "id": "Yz97kebsp_TW"
      }
    },
    {
      "cell_type": "code",
      "source": [
        "model = sm.tsa.ARIMA(Y, order=(2,1,1), exog=X).fit()\n",
        "print(model.summary())"
      ],
      "metadata": {
        "colab": {
          "base_uri": "https://localhost:8080/"
        },
        "id": "8_zOuVKcqLyr",
        "outputId": "698391b7-a606-4a42-842c-28199f69bbc8"
      },
      "execution_count": 41,
      "outputs": [
        {
          "output_type": "stream",
          "name": "stderr",
          "text": [
            "/usr/local/lib/python3.7/dist-packages/statsmodels/base/model.py:606: ConvergenceWarning: Maximum Likelihood optimization failed to converge. Check mle_retvals\n",
            "  ConvergenceWarning)\n"
          ]
        },
        {
          "output_type": "stream",
          "name": "stdout",
          "text": [
            "                               SARIMAX Results                                \n",
            "==============================================================================\n",
            "Dep. Variable:                      4   No. Observations:               108985\n",
            "Model:                 ARIMA(2, 1, 1)   Log Likelihood              273616.189\n",
            "Date:                Fri, 24 Jun 2022   AIC                        -547212.377\n",
            "Time:                        22:08:13   BIC                        -547116.388\n",
            "Sample:                    01-01-1900   HQIC                       -547183.359\n",
            "                         - 05-22-2198                                         \n",
            "Covariance Type:                  opg                                         \n",
            "==============================================================================\n",
            "                 coef    std err          z      P>|z|      [0.025      0.975]\n",
            "------------------------------------------------------------------------------\n",
            "8              0.0365      0.001     64.717      0.000       0.035       0.038\n",
            "9             -0.0801      0.000   -200.180      0.000      -0.081      -0.079\n",
            "10            -0.1941      0.000   -526.471      0.000      -0.195      -0.193\n",
            "11            -0.0278      0.000    -86.035      0.000      -0.028      -0.027\n",
            "12            -0.0008      0.000     -2.019      0.043      -0.001   -2.23e-05\n",
            "13             0.1177      0.000    378.819      0.000       0.117       0.118\n",
            "ar.L1          0.7276      0.001   1299.789      0.000       0.727       0.729\n",
            "ar.L2          0.0541      0.000    110.493      0.000       0.053       0.055\n",
            "ma.L1         -0.9241      0.000  -1852.249      0.000      -0.925      -0.923\n",
            "sigma2         0.0004   1.58e-07   2451.455      0.000       0.000       0.000\n",
            "===================================================================================\n",
            "Ljung-Box (L1) (Q):                   0.99   Jarque-Bera (JB):         736101544.07\n",
            "Prob(Q):                              0.32   Prob(JB):                         0.00\n",
            "Heteroskedasticity (H):               1.82   Skew:                             0.68\n",
            "Prob(H) (two-sided):                  0.00   Kurtosis:                       405.62\n",
            "===================================================================================\n",
            "\n",
            "Warnings:\n",
            "[1] Covariance matrix calculated using the outer product of gradients (complex-step).\n"
          ]
        }
      ]
    },
    {
      "cell_type": "markdown",
      "source": [
        "# VAR model"
      ],
      "metadata": {
        "id": "CdmMUgmyqF4u"
      }
    },
    {
      "cell_type": "code",
      "source": [
        "model = sm.tsa.VAR(X)\n",
        "for i in range(9, 15):\n",
        "    result = model.fit(i)\n",
        "    print('Lag Order =', i)\n",
        "    print('AIC : ', result.aic)\n",
        "    print('BIC : ', result.bic)\n",
        "    print('FPE : ', result.fpe)\n",
        "    print('HQIC: ', result.hqic, '\\n')"
      ],
      "metadata": {
        "colab": {
          "base_uri": "https://localhost:8080/"
        },
        "id": "dHoiLYlLqDGu",
        "outputId": "0c990d07-cca1-4d6f-ccdc-794cf6073226"
      },
      "execution_count": 61,
      "outputs": [
        {
          "output_type": "stream",
          "name": "stdout",
          "text": [
            "Lag Order = 9\n",
            "AIC :  -43.50958161747244\n",
            "BIC :  -43.48051437904702\n",
            "FPE :  1.2706583473912104e-19\n",
            "HQIC:  -43.50079436334678 \n",
            "\n",
            "Lag Order = 10\n",
            "AIC :  -43.52170272308103\n",
            "BIC :  -43.48946424817925\n",
            "FPE :  1.255349530929211e-19\n",
            "HQIC:  -43.51195677529649 \n",
            "\n",
            "Lag Order = 11\n",
            "AIC :  -43.52636729926656\n",
            "BIC :  -43.49095753574994\n",
            "FPE :  1.2495074935951893e-19\n",
            "HQIC:  -43.515662641273735 \n",
            "\n",
            "Lag Order = 12\n",
            "AIC :  -43.53206941541005\n",
            "BIC :  -43.493488311138734\n",
            "FPE :  1.2424029318524564e-19\n",
            "HQIC:  -43.520406030659075 \n",
            "\n",
            "Lag Order = 13\n",
            "AIC :  -43.53707992926924\n",
            "BIC :  -43.49532743210204\n",
            "FPE :  1.2361934245443745e-19\n",
            "HQIC:  -43.52445780120983 \n",
            "\n",
            "Lag Order = 14\n",
            "AIC :  -43.540880424008556\n",
            "BIC :  -43.495956481802914\n",
            "FPE :  1.2315041947402762e-19\n",
            "HQIC:  -43.527299536089956 \n",
            "\n"
          ]
        }
      ]
    },
    {
      "cell_type": "code",
      "source": [
        "model_fitted = model.fit(14)\n",
        "model_fitted.summary()"
      ],
      "metadata": {
        "colab": {
          "base_uri": "https://localhost:8080/"
        },
        "id": "zkLF92vIy_lJ",
        "outputId": "1bd9d4cb-f7a7-46e4-d269-e7931fdf4d62"
      },
      "execution_count": 62,
      "outputs": [
        {
          "output_type": "execute_result",
          "data": {
            "text/plain": [
              "  Summary of Regression Results   \n",
              "==================================\n",
              "Model:                         VAR\n",
              "Method:                        OLS\n",
              "Date:           Fri, 24, Jun, 2022\n",
              "Time:                     22:19:35\n",
              "--------------------------------------------------------------------\n",
              "No. of Equations:         6.00000    BIC:                   -43.4960\n",
              "Nobs:                     108971.    HQIC:                  -43.5273\n",
              "Log likelihood:       1.44512e+06    FPE:                1.23150e-19\n",
              "AIC:                     -43.5409    Det(Omega_mle):     1.22576e-19\n",
              "--------------------------------------------------------------------\n",
              "Results for equation 8\n",
              "=========================================================================\n",
              "            coefficient       std. error           t-stat            prob\n",
              "-------------------------------------------------------------------------\n",
              "const          0.000290         0.000140            2.068           0.039\n",
              "L1.8           0.877213         0.003193          274.726           0.000\n",
              "L1.9          -0.023825         0.002564           -9.292           0.000\n",
              "L1.10          0.004900         0.003782            1.295           0.195\n",
              "L1.11          0.003646         0.001600            2.278           0.023\n",
              "L1.12         -0.004304         0.001698           -2.535           0.011\n",
              "L1.13          0.004641         0.002295            2.022           0.043\n",
              "L2.8          -0.003775         0.004246           -0.889           0.374\n",
              "L2.9           0.003616         0.003347            1.080           0.280\n",
              "L2.10          0.018237         0.004544            4.014           0.000\n",
              "L2.11         -0.007444         0.002082           -3.575           0.000\n",
              "L2.12         -0.003555         0.002149           -1.654           0.098\n",
              "L2.13         -0.022124         0.002964           -7.465           0.000\n",
              "L3.8           0.041833         0.004244            9.856           0.000\n",
              "L3.9           0.004139         0.003348            1.236           0.216\n",
              "L3.10         -0.011593         0.004575           -2.534           0.011\n",
              "L3.11          0.007792         0.002083            3.740           0.000\n",
              "L3.12          0.004353         0.002152            2.022           0.043\n",
              "L3.13          0.012865         0.002967            4.336           0.000\n",
              "L4.8           0.003652         0.004246            0.860           0.390\n",
              "L4.9          -0.006777         0.003347           -2.025           0.043\n",
              "L4.10         -0.005434         0.004584           -1.185           0.236\n",
              "L4.11         -0.003617         0.002084           -1.736           0.083\n",
              "L4.12          0.004122         0.002153            1.915           0.056\n",
              "L4.13         -0.005598         0.002967           -1.887           0.059\n",
              "L5.8           0.046256         0.004246           10.894           0.000\n",
              "L5.9           0.002916         0.003347            0.871           0.384\n",
              "L5.10         -0.022790         0.004581           -4.975           0.000\n",
              "L5.11         -0.000449         0.002084           -0.215           0.829\n",
              "L5.12          0.007407         0.002153            3.440           0.001\n",
              "L5.13          0.000478         0.002967            0.161           0.872\n",
              "L6.8           0.012737         0.004249            2.997           0.003\n",
              "L6.9           0.015934         0.003347            4.761           0.000\n",
              "L6.10          0.008725         0.004575            1.907           0.057\n",
              "L6.11         -0.001642         0.002085           -0.788           0.431\n",
              "L6.12         -0.009685         0.002153           -4.498           0.000\n",
              "L6.13         -0.007712         0.002967           -2.599           0.009\n",
              "L7.8          -0.037405         0.004248           -8.805           0.000\n",
              "L7.9          -0.009128         0.003347           -2.728           0.006\n",
              "L7.10          0.010069         0.004578            2.199           0.028\n",
              "L7.11          0.002295         0.002085            1.101           0.271\n",
              "L7.12          0.001833         0.002154            0.851           0.395\n",
              "L7.13          0.011630         0.002969            3.917           0.000\n",
              "L8.8           0.034679         0.004248            8.164           0.000\n",
              "L8.9           0.007798         0.003346            2.331           0.020\n",
              "L8.10          0.013972         0.004578            3.052           0.002\n",
              "L8.11         -0.001324         0.002085           -0.635           0.525\n",
              "L8.12         -0.002102         0.002154           -0.976           0.329\n",
              "L8.13          0.001382         0.002970            0.465           0.642\n",
              "L9.8           0.002350         0.004248            0.553           0.580\n",
              "L9.9          -0.000182         0.003345           -0.054           0.957\n",
              "L9.10         -0.013782         0.004575           -3.013           0.003\n",
              "L9.11         -0.004567         0.002085           -2.190           0.029\n",
              "L9.12          0.001875         0.002154            0.870           0.384\n",
              "L9.13         -0.003135         0.002968           -1.056           0.291\n",
              "L10.8          0.007811         0.004245            1.840           0.066\n",
              "L10.9         -0.001813         0.003344           -0.542           0.588\n",
              "L10.10         0.010969         0.004580            2.395           0.017\n",
              "L10.11        -0.001634         0.002085           -0.784           0.433\n",
              "L10.12         0.002402         0.002155            1.115           0.265\n",
              "L10.13         0.006223         0.002968            2.097           0.036\n",
              "L11.8         -0.014203         0.004245           -3.346           0.001\n",
              "L11.9          0.013082         0.003342            3.914           0.000\n",
              "L11.10        -0.001409         0.004584           -0.307           0.758\n",
              "L11.11         0.003191         0.002085            1.531           0.126\n",
              "L11.12        -0.003410         0.002155           -1.583           0.113\n",
              "L11.13        -0.003628         0.002968           -1.222           0.222\n",
              "L12.8          0.025920         0.004242            6.110           0.000\n",
              "L12.9         -0.009820         0.003343           -2.937           0.003\n",
              "L12.10        -0.021765         0.004583           -4.749           0.000\n",
              "L12.11        -0.002078         0.002085           -0.997           0.319\n",
              "L12.12        -0.003210         0.002155           -1.490           0.136\n",
              "L12.13         0.000910         0.002968            0.307           0.759\n",
              "L13.8         -0.016372         0.004241           -3.861           0.000\n",
              "L13.9         -0.002640         0.003341           -0.790           0.429\n",
              "L13.10         0.014574         0.004572            3.188           0.001\n",
              "L13.11         0.003385         0.002083            1.626           0.104\n",
              "L13.12         0.001761         0.002152            0.818           0.413\n",
              "L13.13        -0.006072         0.002967           -2.046           0.041\n",
              "L14.8          0.014753         0.003191            4.624           0.000\n",
              "L14.9          0.004395         0.002570            1.710           0.087\n",
              "L14.10        -0.003513         0.003806           -0.923           0.356\n",
              "L14.11         0.001061         0.001601            0.663           0.507\n",
              "L14.12         0.003528         0.001697            2.079           0.038\n",
              "L14.13         0.010716         0.002296            4.667           0.000\n",
              "=========================================================================\n",
              "\n",
              "Results for equation 9\n",
              "=========================================================================\n",
              "            coefficient       std. error           t-stat            prob\n",
              "-------------------------------------------------------------------------\n",
              "const          0.000297         0.000176            1.683           0.092\n",
              "L1.8           0.000723         0.004024            0.180           0.857\n",
              "L1.9           0.853522         0.003231          264.172           0.000\n",
              "L1.10         -0.074188         0.004766          -15.566           0.000\n",
              "L1.11         -0.017387         0.002016           -8.623           0.000\n",
              "L1.12          0.003816         0.002139            1.784           0.074\n",
              "L1.13          0.036448         0.002892           12.605           0.000\n",
              "L2.8           0.001744         0.005350            0.326           0.744\n",
              "L2.9           0.046679         0.004218           11.066           0.000\n",
              "L2.10          0.042410         0.005726            7.407           0.000\n",
              "L2.11          0.005238         0.002623            1.997           0.046\n",
              "L2.12         -0.000999         0.002708           -0.369           0.712\n",
              "L2.13         -0.041490         0.003735          -11.110           0.000\n",
              "L3.8          -0.009663         0.005348           -1.807           0.071\n",
              "L3.9          -0.007571         0.004218           -1.795           0.073\n",
              "L3.10          0.031927         0.005765            5.538           0.000\n",
              "L3.11          0.004715         0.002625            1.796           0.072\n",
              "L3.12         -0.005733         0.002712           -2.114           0.035\n",
              "L3.13          0.022738         0.003739            6.081           0.000\n",
              "L4.8           0.007628         0.005350            1.426           0.154\n",
              "L4.9           0.037739         0.004217            8.949           0.000\n",
              "L4.10         -0.025020         0.005777           -4.331           0.000\n",
              "L4.11         -0.008266         0.002626           -3.148           0.002\n",
              "L4.12          0.005096         0.002713            1.878           0.060\n",
              "L4.13         -0.003551         0.003739           -0.950           0.342\n",
              "L5.8          -0.016259         0.005350           -3.039           0.002\n",
              "L5.9          -0.002759         0.004218           -0.654           0.513\n",
              "L5.10         -0.027583         0.005772           -4.779           0.000\n",
              "L5.11          0.023107         0.002626            8.800           0.000\n",
              "L5.12         -0.003080         0.002713           -1.135           0.256\n",
              "L5.13         -0.014567         0.003739           -3.896           0.000\n",
              "L6.8           0.025737         0.005355            4.806           0.000\n",
              "L6.9           0.006261         0.004217            1.485           0.138\n",
              "L6.10          0.008420         0.005765            1.460           0.144\n",
              "L6.11         -0.001721         0.002627           -0.655           0.513\n",
              "L6.12          0.002832         0.002713            1.044           0.297\n",
              "L6.13          0.026758         0.003739            7.157           0.000\n",
              "L7.8          -0.001586         0.005353           -0.296           0.767\n",
              "L7.9           0.021659         0.004217            5.136           0.000\n",
              "L7.10          0.017527         0.005769            3.038           0.002\n",
              "L7.11         -0.017243         0.002627           -6.563           0.000\n",
              "L7.12         -0.002719         0.002714           -1.002           0.316\n",
              "L7.13         -0.031846         0.003741           -8.512           0.000\n",
              "L8.8           0.004411         0.005352            0.824           0.410\n",
              "L8.9          -0.002296         0.004216           -0.545           0.586\n",
              "L8.10          0.002503         0.005768            0.434           0.664\n",
              "L8.11          0.014329         0.002628            5.453           0.000\n",
              "L8.12          0.008503         0.002714            3.133           0.002\n",
              "L8.13         -0.000675         0.003742           -0.180           0.857\n",
              "L9.8          -0.006617         0.005353           -1.236           0.216\n",
              "L9.9           0.002195         0.004215            0.521           0.602\n",
              "L9.10         -0.003409         0.005764           -0.591           0.554\n",
              "L9.11         -0.011549         0.002628           -4.395           0.000\n",
              "L9.12         -0.012552         0.002715           -4.623           0.000\n",
              "L9.13          0.008030         0.003741            2.147           0.032\n",
              "L10.8         -0.013003         0.005349           -2.431           0.015\n",
              "L10.9         -0.008083         0.004213           -1.918           0.055\n",
              "L10.10         0.005852         0.005771            1.014           0.311\n",
              "L10.11         0.012976         0.002627            4.939           0.000\n",
              "L10.12        -0.002629         0.002715           -0.968           0.333\n",
              "L10.13         0.007839         0.003740            2.096           0.036\n",
              "L11.8          0.007495         0.005349            1.401           0.161\n",
              "L11.9          0.033685         0.004211            7.999           0.000\n",
              "L11.10        -0.000230         0.005776           -0.040           0.968\n",
              "L11.11        -0.002804         0.002627           -1.067           0.286\n",
              "L11.12         0.007149         0.002715            2.633           0.008\n",
              "L11.13        -0.004016         0.003740           -1.074           0.283\n",
              "L12.8         -0.009163         0.005346           -1.714           0.087\n",
              "L12.9         -0.038776         0.004213           -9.205           0.000\n",
              "L12.10         0.027700         0.005776            4.796           0.000\n",
              "L12.11        -0.003804         0.002627           -1.448           0.148\n",
              "L12.12         0.000895         0.002715            0.329           0.742\n",
              "L12.13         0.009812         0.003740            2.624           0.009\n",
              "L13.8          0.021049         0.005344            3.939           0.000\n",
              "L13.9          0.030743         0.004211            7.301           0.000\n",
              "L13.10        -0.012908         0.005760           -2.241           0.025\n",
              "L13.11         0.001034         0.002624            0.394           0.694\n",
              "L13.12        -0.003633         0.002712           -1.339           0.180\n",
              "L13.13        -0.002926         0.003739           -0.783           0.434\n",
              "L14.8         -0.015222         0.004021           -3.786           0.000\n",
              "L14.9          0.010611         0.003239            3.276           0.001\n",
              "L14.10         0.009608         0.004796            2.003           0.045\n",
              "L14.11         0.002948         0.002017            1.462           0.144\n",
              "L14.12         0.003531         0.002138            1.651           0.099\n",
              "L14.13        -0.006677         0.002893           -2.308           0.021\n",
              "=========================================================================\n",
              "\n",
              "Results for equation 10\n",
              "=========================================================================\n",
              "            coefficient       std. error           t-stat            prob\n",
              "-------------------------------------------------------------------------\n",
              "const          0.000402         0.000120            3.354           0.001\n",
              "L1.8           0.016864         0.002736            6.164           0.000\n",
              "L1.9           0.019563         0.002197            8.904           0.000\n",
              "L1.10          0.650119         0.003241          200.599           0.000\n",
              "L1.11          0.010458         0.001371            7.627           0.000\n",
              "L1.12          0.001969         0.001455            1.354           0.176\n",
              "L1.13          0.013616         0.001966            6.924           0.000\n",
              "L2.8          -0.009694         0.003638           -2.664           0.008\n",
              "L2.9           0.003918         0.002868            1.366           0.172\n",
              "L2.10          0.147818         0.003893           37.966           0.000\n",
              "L2.11         -0.001218         0.001784           -0.683           0.495\n",
              "L2.12          0.002853         0.001841            1.550           0.121\n",
              "L2.13         -0.022016         0.002540           -8.669           0.000\n",
              "L3.8           0.001838         0.003637            0.505           0.613\n",
              "L3.9          -0.016919         0.002868           -5.898           0.000\n",
              "L3.10          0.075232         0.003920           19.192           0.000\n",
              "L3.11         -0.007239         0.001785           -4.055           0.000\n",
              "L3.12         -0.003624         0.001844           -1.965           0.049\n",
              "L3.13          0.003383         0.002543            1.331           0.183\n",
              "L4.8          -0.001953         0.003638           -0.537           0.591\n",
              "L4.9          -0.001055         0.002868           -0.368           0.713\n",
              "L4.10         -0.051208         0.003928          -13.036           0.000\n",
              "L4.11          0.006983         0.001785            3.911           0.000\n",
              "L4.12          0.003558         0.001845            1.929           0.054\n",
              "L4.13         -0.007199         0.002542           -2.832           0.005\n",
              "L5.8          -0.000333         0.003638           -0.092           0.927\n",
              "L5.9          -0.003006         0.002868           -1.048           0.295\n",
              "L5.10          0.014268         0.003925            3.635           0.000\n",
              "L5.11          0.003374         0.001786            1.890           0.059\n",
              "L5.12         -0.007526         0.001845           -4.079           0.000\n",
              "L5.13          0.007599         0.002542            2.989           0.003\n",
              "L6.8          -0.003408         0.003641           -0.936           0.349\n",
              "L6.9           0.005242         0.002868            1.828           0.068\n",
              "L6.10          0.046885         0.003920           11.959           0.000\n",
              "L6.11         -0.005733         0.001786           -3.209           0.001\n",
              "L6.12          0.003046         0.001845            1.651           0.099\n",
              "L6.13          0.009258         0.002542            3.642           0.000\n",
              "L7.8           0.000190         0.003640            0.052           0.958\n",
              "L7.9          -0.009232         0.002868           -3.219           0.001\n",
              "L7.10          0.046677         0.003923           11.899           0.000\n",
              "L7.11         -0.005861         0.001787           -3.281           0.001\n",
              "L7.12         -0.001170         0.001846           -0.634           0.526\n",
              "L7.13          0.003227         0.002544            1.268           0.205\n",
              "L8.8           0.004849         0.003640            1.332           0.183\n",
              "L8.9          -0.010480         0.002867           -3.656           0.000\n",
              "L8.10          0.017613         0.003922            4.490           0.000\n",
              "L8.11          0.002010         0.001787            1.125           0.261\n",
              "L8.12         -0.000796         0.001846           -0.431           0.666\n",
              "L8.13         -0.011393         0.002545           -4.477           0.000\n",
              "L9.8          -0.004013         0.003640           -1.102           0.270\n",
              "L9.9           0.013125         0.002866            4.579           0.000\n",
              "L9.10         -0.070300         0.003920          -17.935           0.000\n",
              "L9.11          0.002433         0.001787            1.361           0.173\n",
              "L9.12          0.001293         0.001846            0.700           0.484\n",
              "L9.13          0.008218         0.002544            3.231           0.001\n",
              "L10.8         -0.000134         0.003637           -0.037           0.971\n",
              "L10.9         -0.001528         0.002865           -0.533           0.594\n",
              "L10.10         0.064781         0.003925           16.506           0.000\n",
              "L10.11        -0.003793         0.001787           -2.123           0.034\n",
              "L10.12        -0.000622         0.001846           -0.337           0.736\n",
              "L10.13        -0.002224         0.002543           -0.874           0.382\n",
              "L11.8          0.001871         0.003637            0.514           0.607\n",
              "L11.9          0.005143         0.002864            1.796           0.073\n",
              "L11.10        -0.003638         0.003928           -0.926           0.354\n",
              "L11.11        -0.000494         0.001787           -0.277           0.782\n",
              "L11.12         0.004537         0.001846            2.457           0.014\n",
              "L11.13        -0.001797         0.002543           -0.707           0.480\n",
              "L12.8         -0.002044         0.003635           -0.562           0.574\n",
              "L12.9         -0.016957         0.002865           -5.919           0.000\n",
              "L12.10         0.046698         0.003927           11.890           0.000\n",
              "L12.11        -0.003642         0.001786           -2.039           0.041\n",
              "L12.12        -0.002734         0.001846           -1.481           0.139\n",
              "L12.13        -0.000204         0.002543           -0.080           0.936\n",
              "L13.8          0.001348         0.003634            0.371           0.711\n",
              "L13.9          0.015444         0.002863            5.394           0.000\n",
              "L13.10         0.007893         0.003917            2.015           0.044\n",
              "L13.11        -0.002972         0.001784           -1.665           0.096\n",
              "L13.12        -0.004711         0.001844           -2.555           0.011\n",
              "L13.13        -0.000817         0.002542           -0.321           0.748\n",
              "L14.8         -0.005449         0.002734           -1.993           0.046\n",
              "L14.9         -0.002025         0.002203           -0.920           0.358\n",
              "L14.10         0.006002         0.003261            1.840           0.066\n",
              "L14.11         0.005713         0.001372            4.166           0.000\n",
              "L14.12         0.002636         0.001454            1.813           0.070\n",
              "L14.13         0.002331         0.001967            1.185           0.236\n",
              "=========================================================================\n",
              "\n",
              "Results for equation 11\n",
              "=========================================================================\n",
              "            coefficient       std. error           t-stat            prob\n",
              "-------------------------------------------------------------------------\n",
              "const         -0.000487         0.000275           -1.770           0.077\n",
              "L1.8          -0.031057         0.006276           -4.948           0.000\n",
              "L1.9          -0.043472         0.005040           -8.625           0.000\n",
              "L1.10          0.029145         0.007435            3.920           0.000\n",
              "L1.11          0.835449         0.003146          265.599           0.000\n",
              "L1.12         -0.005907         0.003337           -1.770           0.077\n",
              "L1.13         -0.009822         0.004511           -2.177           0.029\n",
              "L2.8           0.032378         0.008346            3.879           0.000\n",
              "L2.9           0.010808         0.006580            1.643           0.100\n",
              "L2.10         -0.002303         0.008932           -0.258           0.797\n",
              "L2.11          0.039373         0.004093            9.621           0.000\n",
              "L2.12          0.024682         0.004224            5.843           0.000\n",
              "L2.13          0.008899         0.005826            1.527           0.127\n",
              "L3.8           0.039357         0.008343            4.717           0.000\n",
              "L3.9           0.016462         0.006580            2.502           0.012\n",
              "L3.10         -0.000413         0.008993           -0.046           0.963\n",
              "L3.11          0.023163         0.004095            5.657           0.000\n",
              "L3.12         -0.002681         0.004231           -0.634           0.526\n",
              "L3.13         -0.006352         0.005833           -1.089           0.276\n",
              "L4.8          -0.010087         0.008346           -1.209           0.227\n",
              "L4.9           0.000848         0.006578            0.129           0.897\n",
              "L4.10         -0.026456         0.009011           -2.936           0.003\n",
              "L4.11         -0.010009         0.004096           -2.444           0.015\n",
              "L4.12         -0.008270         0.004232           -1.954           0.051\n",
              "L4.13          0.019532         0.005832            3.349           0.001\n",
              "L5.8          -0.019390         0.008346           -2.323           0.020\n",
              "L5.9          -0.010144         0.006580           -1.542           0.123\n",
              "L5.10         -0.004002         0.009004           -0.444           0.657\n",
              "L5.11          0.036452         0.004096            8.899           0.000\n",
              "L5.12          0.005540         0.004232            1.309           0.190\n",
              "L5.13         -0.003825         0.005832           -0.656           0.512\n",
              "L6.8           0.001930         0.008353            0.231           0.817\n",
              "L6.9           0.027940         0.006578            4.247           0.000\n",
              "L6.10         -0.002626         0.008994           -0.292           0.770\n",
              "L6.11         -0.001153         0.004098           -0.281           0.778\n",
              "L6.12         -0.015261         0.004232           -3.606           0.000\n",
              "L6.13          0.002280         0.005832            0.391           0.696\n",
              "L7.8          -0.011249         0.008351           -1.347           0.178\n",
              "L7.9          -0.021575         0.006578           -3.280           0.001\n",
              "L7.10          0.021326         0.008999            2.370           0.018\n",
              "L7.11          0.030046         0.004098            7.331           0.000\n",
              "L7.12         -0.003046         0.004234           -0.719           0.472\n",
              "L7.13         -0.020691         0.005836           -3.545           0.000\n",
              "L8.8           0.017511         0.008350            2.097           0.036\n",
              "L8.9           0.016593         0.006576            2.523           0.012\n",
              "L8.10         -0.010990         0.008998           -1.221           0.222\n",
              "L8.11         -0.001862         0.004099           -0.454           0.650\n",
              "L8.12          0.008103         0.004234            1.914           0.056\n",
              "L8.13          0.009344         0.005838            1.601           0.109\n",
              "L9.8          -0.017438         0.008351           -2.088           0.037\n",
              "L9.9          -0.016139         0.006575           -2.455           0.014\n",
              "L9.10         -0.027637         0.008992           -3.074           0.002\n",
              "L9.11          0.006333         0.004099            1.545           0.122\n",
              "L9.12          0.018816         0.004235            4.443           0.000\n",
              "L9.13         -0.016927         0.005835           -2.901           0.004\n",
              "L10.8          0.017636         0.008344            2.114           0.035\n",
              "L10.9          0.011438         0.006573            1.740           0.082\n",
              "L10.10         0.009534         0.009003            1.059           0.290\n",
              "L10.11        -0.005970         0.004098           -1.457           0.145\n",
              "L10.12        -0.016848         0.004235           -3.978           0.000\n",
              "L10.13         0.025611         0.005835            4.390           0.000\n",
              "L11.8          0.017370         0.008344            2.082           0.037\n",
              "L11.9          0.013747         0.006569            2.093           0.036\n",
              "L11.10         0.003933         0.009010            0.436           0.663\n",
              "L11.11         0.000495         0.004099            0.121           0.904\n",
              "L11.12         0.003793         0.004236            0.895           0.371\n",
              "L11.13        -0.024239         0.005834           -4.155           0.000\n",
              "L12.8         -0.004809         0.008339           -0.577           0.564\n",
              "L12.9         -0.012440         0.006572           -1.893           0.058\n",
              "L12.10         0.002694         0.009010            0.299           0.765\n",
              "L12.11        -0.008728         0.004097           -2.130           0.033\n",
              "L12.12         0.010247         0.004235            2.419           0.016\n",
              "L12.13         0.015657         0.005834            2.684           0.007\n",
              "L13.8         -0.035140         0.008336           -4.215           0.000\n",
              "L13.9         -0.004200         0.006568           -0.639           0.523\n",
              "L13.10         0.026202         0.008986            2.916           0.004\n",
              "L13.11         0.028409         0.004094            6.940           0.000\n",
              "L13.12        -0.017476         0.004231           -4.131           0.000\n",
              "L13.13        -0.017463         0.005832           -2.994           0.003\n",
              "L14.8          0.007918         0.006272            1.262           0.207\n",
              "L14.9          0.015193         0.005053            3.007           0.003\n",
              "L14.10        -0.018458         0.007482           -2.467           0.014\n",
              "L14.11         0.013749         0.003146            4.370           0.000\n",
              "L14.12         0.003185         0.003336            0.955           0.340\n",
              "L14.13         0.023814         0.004513            5.277           0.000\n",
              "=========================================================================\n",
              "\n",
              "Results for equation 12\n",
              "=========================================================================\n",
              "            coefficient       std. error           t-stat            prob\n",
              "-------------------------------------------------------------------------\n",
              "const          0.001177         0.000258            4.558           0.000\n",
              "L1.8          -0.046801         0.005886           -7.952           0.000\n",
              "L1.9           0.062554         0.004726           13.235           0.000\n",
              "L1.10         -0.030727         0.006972           -4.407           0.000\n",
              "L1.11          0.010796         0.002950            3.660           0.000\n",
              "L1.12          0.777056         0.003130          248.299           0.000\n",
              "L1.13          0.003742         0.004230            0.885           0.376\n",
              "L2.8           0.010138         0.007826            1.295           0.195\n",
              "L2.9          -0.004796         0.006170           -0.777           0.437\n",
              "L2.10          0.012980         0.008376            1.550           0.121\n",
              "L2.11         -0.005455         0.003838           -1.422           0.155\n",
              "L2.12          0.070219         0.003961           17.727           0.000\n",
              "L2.13         -0.004236         0.005463           -0.775           0.438\n",
              "L3.8           0.011048         0.007824            1.412           0.158\n",
              "L3.9           0.001253         0.006171            0.203           0.839\n",
              "L3.10         -0.011572         0.008433           -1.372           0.170\n",
              "L3.11         -0.015680         0.003840           -4.084           0.000\n",
              "L3.12          0.023575         0.003967            5.942           0.000\n",
              "L3.13          0.017269         0.005470            3.157           0.002\n",
              "L4.8          -0.009272         0.007827           -1.185           0.236\n",
              "L4.9           0.017489         0.006169            2.835           0.005\n",
              "L4.10          0.005008         0.008450            0.593           0.553\n",
              "L4.11          0.016596         0.003841            4.321           0.000\n",
              "L4.12          0.001146         0.003968            0.289           0.773\n",
              "L4.13         -0.002328         0.005469           -0.426           0.670\n",
              "L5.8           0.006634         0.007827            0.848           0.397\n",
              "L5.9          -0.015935         0.006170           -2.583           0.010\n",
              "L5.10          0.013191         0.008443            1.562           0.118\n",
              "L5.11          0.006063         0.003841            1.579           0.114\n",
              "L5.12          0.016159         0.003969            4.072           0.000\n",
              "L5.13          0.009802         0.005469            1.792           0.073\n",
              "L6.8           0.006751         0.007833            0.862           0.389\n",
              "L6.9          -0.012495         0.006169           -2.026           0.043\n",
              "L6.10         -0.005477         0.008434           -0.649           0.516\n",
              "L6.11         -0.009206         0.003843           -2.395           0.017\n",
              "L6.12          0.011938         0.003969            3.008           0.003\n",
              "L6.13          0.001663         0.005469            0.304           0.761\n",
              "L7.8           0.003622         0.007831            0.463           0.644\n",
              "L7.9          -0.011024         0.006169           -1.787           0.074\n",
              "L7.10          0.002566         0.008439            0.304           0.761\n",
              "L7.11         -0.004950         0.003843           -1.288           0.198\n",
              "L7.12          0.014929         0.003970            3.760           0.000\n",
              "L7.13         -0.014659         0.005473           -2.679           0.007\n",
              "L8.8           0.001556         0.007830            0.199           0.842\n",
              "L8.9          -0.022032         0.006167           -3.573           0.000\n",
              "L8.10         -0.001386         0.008438           -0.164           0.870\n",
              "L8.11          0.004016         0.003844            1.045           0.296\n",
              "L8.12          0.020496         0.003971            5.162           0.000\n",
              "L8.13         -0.021138         0.005474           -3.861           0.000\n",
              "L9.8           0.005606         0.007831            0.716           0.474\n",
              "L9.9           0.017293         0.006166            2.805           0.005\n",
              "L9.10          0.003619         0.008432            0.429           0.668\n",
              "L9.11          0.008094         0.003844            2.106           0.035\n",
              "L9.12          0.006387         0.003971            1.608           0.108\n",
              "L9.13          0.024477         0.005472            4.473           0.000\n",
              "L10.8          0.006754         0.007824            0.863           0.388\n",
              "L10.9          0.014347         0.006163            2.328           0.020\n",
              "L10.10        -0.033256         0.008443           -3.939           0.000\n",
              "L10.11        -0.002892         0.003843           -0.752           0.452\n",
              "L10.12         0.022496         0.003971            5.664           0.000\n",
              "L10.13         0.001669         0.005471            0.305           0.760\n",
              "L11.8         -0.006255         0.007824           -0.799           0.424\n",
              "L11.9         -0.027323         0.006160           -4.435           0.000\n",
              "L11.10         0.031714         0.008449            3.753           0.000\n",
              "L11.11         0.005489         0.003843            1.428           0.153\n",
              "L11.12        -0.012831         0.003972           -3.230           0.001\n",
              "L11.13        -0.021752         0.005471           -3.976           0.000\n",
              "L12.8          0.007584         0.007820            0.970           0.332\n",
              "L12.9         -0.003288         0.006162           -0.534           0.594\n",
              "L12.10         0.030103         0.008449            3.563           0.000\n",
              "L12.11        -0.011914         0.003842           -3.101           0.002\n",
              "L12.12         0.001247         0.003972            0.314           0.754\n",
              "L12.13         0.007676         0.005471            1.403           0.161\n",
              "L13.8          0.007927         0.007817            1.014           0.311\n",
              "L13.9          0.022817         0.006159            3.705           0.000\n",
              "L13.10        -0.012180         0.008427           -1.445           0.148\n",
              "L13.11        -0.005012         0.003839           -1.306           0.192\n",
              "L13.12        -0.020088         0.003967           -5.063           0.000\n",
              "L13.13        -0.000337         0.005469           -0.062           0.951\n",
              "L14.8         -0.008586         0.005882           -1.460           0.144\n",
              "L14.9         -0.025776         0.004738           -5.440           0.000\n",
              "L14.10        -0.002485         0.007016           -0.354           0.723\n",
              "L14.11         0.006356         0.002950            2.154           0.031\n",
              "L14.12         0.044993         0.003128           14.384           0.000\n",
              "L14.13        -0.000164         0.004232           -0.039           0.969\n",
              "=========================================================================\n",
              "\n",
              "Results for equation 13\n",
              "=========================================================================\n",
              "            coefficient       std. error           t-stat            prob\n",
              "-------------------------------------------------------------------------\n",
              "const         -0.000051         0.000192           -0.267           0.790\n",
              "L1.8           0.006584         0.004379            1.504           0.133\n",
              "L1.9          -0.019089         0.003516           -5.429           0.000\n",
              "L1.10         -0.012446         0.005187           -2.399           0.016\n",
              "L1.11         -0.005113         0.002195           -2.330           0.020\n",
              "L1.12          0.001023         0.002328            0.439           0.660\n",
              "L1.13          0.807935         0.003147          256.723           0.000\n",
              "L2.8          -0.004585         0.005823           -0.787           0.431\n",
              "L2.9          -0.011786         0.004591           -2.567           0.010\n",
              "L2.10          0.021067         0.006231            3.381           0.001\n",
              "L2.11          0.008512         0.002855            2.981           0.003\n",
              "L2.12          0.006747         0.002947            2.290           0.022\n",
              "L2.13          0.041941         0.004065           10.319           0.000\n",
              "L3.8           0.022930         0.005821            3.939           0.000\n",
              "L3.9           0.010375         0.004591            2.260           0.024\n",
              "L3.10         -0.029827         0.006274           -4.754           0.000\n",
              "L3.11         -0.003997         0.002857           -1.399           0.162\n",
              "L3.12          0.003123         0.002952            1.058           0.290\n",
              "L3.13          0.012189         0.004069            2.995           0.003\n",
              "L4.8          -0.018459         0.005823           -3.170           0.002\n",
              "L4.9           0.007551         0.004590            1.645           0.100\n",
              "L4.10         -0.027762         0.006287           -4.416           0.000\n",
              "L4.11          0.000451         0.002858            0.158           0.875\n",
              "L4.12          0.001129         0.002952            0.382           0.702\n",
              "L4.13          0.005738         0.004069            1.410           0.159\n",
              "L5.8           0.026012         0.005823            4.467           0.000\n",
              "L5.9           0.005260         0.004590            1.146           0.252\n",
              "L5.10          0.032331         0.006282            5.147           0.000\n",
              "L5.11         -0.002451         0.002858           -0.858           0.391\n",
              "L5.12         -0.012480         0.002953           -4.227           0.000\n",
              "L5.13         -0.003177         0.004069           -0.781           0.435\n",
              "L6.8          -0.011156         0.005828           -1.914           0.056\n",
              "L6.9          -0.001434         0.004589           -0.313           0.755\n",
              "L6.10          0.033945         0.006275            5.410           0.000\n",
              "L6.11         -0.007223         0.002859           -2.526           0.012\n",
              "L6.12          0.008184         0.002953            2.772           0.006\n",
              "L6.13          0.039377         0.004069            9.678           0.000\n",
              "L7.8          -0.006218         0.005826           -1.067           0.286\n",
              "L7.9          -0.021584         0.004590           -4.703           0.000\n",
              "L7.10         -0.012410         0.006278           -1.977           0.048\n",
              "L7.11          0.017684         0.002859            6.185           0.000\n",
              "L7.12          0.003031         0.002954            1.026           0.305\n",
              "L7.13          0.014599         0.004072            3.586           0.000\n",
              "L8.8           0.007593         0.005825            1.304           0.192\n",
              "L8.9           0.019663         0.004588            4.286           0.000\n",
              "L8.10         -0.005544         0.006278           -0.883           0.377\n",
              "L8.11         -0.009509         0.002860           -3.325           0.001\n",
              "L8.12         -0.012545         0.002954           -4.246           0.000\n",
              "L8.13          0.020082         0.004073            4.931           0.000\n",
              "L9.8          -0.008206         0.005826           -1.408           0.159\n",
              "L9.9           0.016483         0.004587            3.593           0.000\n",
              "L9.10         -0.015527         0.006274           -2.475           0.013\n",
              "L9.11          0.009310         0.002860            3.255           0.001\n",
              "L9.12          0.007178         0.002955            2.429           0.015\n",
              "L9.13         -0.005123         0.004071           -1.258           0.208\n",
              "L10.8          0.005167         0.005821            0.888           0.375\n",
              "L10.9         -0.007921         0.004586           -1.727           0.084\n",
              "L10.10        -0.004761         0.006281           -0.758           0.448\n",
              "L10.11        -0.006731         0.002859           -2.354           0.019\n",
              "L10.12        -0.000567         0.002955           -0.192           0.848\n",
              "L10.13         0.008562         0.004071            2.103           0.035\n",
              "L11.8         -0.005329         0.005821           -0.916           0.360\n",
              "L11.9          0.008160         0.004583            1.780           0.075\n",
              "L11.10         0.045757         0.006286            7.279           0.000\n",
              "L11.11        -0.003098         0.002859           -1.084           0.279\n",
              "L11.12         0.005878         0.002955            1.989           0.047\n",
              "L11.13         0.000467         0.004070            0.115           0.909\n",
              "L12.8          0.004244         0.005818            0.729           0.466\n",
              "L12.9         -0.012622         0.004585           -2.753           0.006\n",
              "L12.10        -0.012151         0.006286           -1.933           0.053\n",
              "L12.11        -0.001492         0.002859           -0.522           0.602\n",
              "L12.12        -0.005030         0.002955           -1.702           0.089\n",
              "L12.13        -0.002557         0.004070           -0.628           0.530\n",
              "L13.8         -0.029127         0.005816           -5.008           0.000\n",
              "L13.9          0.009448         0.004582            2.062           0.039\n",
              "L13.10         0.009483         0.006269            1.513           0.130\n",
              "L13.11         0.007643         0.002856            2.676           0.007\n",
              "L13.12         0.004202         0.002952            1.424           0.155\n",
              "L13.13         0.012244         0.004069            3.009           0.003\n",
              "L14.8          0.011388         0.004376            2.603           0.009\n",
              "L14.9          0.002107         0.003525            0.598           0.550\n",
              "L14.10        -0.015697         0.005220           -3.007           0.003\n",
              "L14.11        -0.003202         0.002195           -1.459           0.145\n",
              "L14.12        -0.009591         0.002327           -4.121           0.000\n",
              "L14.13         0.024554         0.003149            7.798           0.000\n",
              "=========================================================================\n",
              "\n",
              "Correlation matrix of residuals\n",
              "             8         9        10        11        12        13\n",
              "8     1.000000 -0.086250  0.090330  0.244723 -0.114950 -0.050583\n",
              "9    -0.086250  1.000000  0.215170  0.014840  0.120547 -0.229078\n",
              "10    0.090330  0.215170  1.000000  0.121109  0.189938  0.047572\n",
              "11    0.244723  0.014840  0.121109  1.000000  0.034655  0.002108\n",
              "12   -0.114950  0.120547  0.189938  0.034655  1.000000 -0.062507\n",
              "13   -0.050583 -0.229078  0.047572  0.002108 -0.062507  1.000000\n",
              "\n"
            ]
          },
          "metadata": {},
          "execution_count": 62
        }
      ]
    },
    {
      "cell_type": "markdown",
      "source": [
        "# Vec model"
      ],
      "metadata": {
        "id": "Cnx-hXm6qIyo"
      }
    },
    {
      "cell_type": "code",
      "source": [
        "from statsmodels.tsa.vector_ar.vecm import *"
      ],
      "metadata": {
        "id": "I86ZkOIB0h1F"
      },
      "execution_count": 77,
      "outputs": []
    },
    {
      "cell_type": "code",
      "source": [
        "vec_rank1 = select_coint_rank(X, det_order = 1, k_ar_diff = 1, method = 'trace', signif=0.01)\n",
        "print(vec_rank1.summary())"
      ],
      "metadata": {
        "colab": {
          "base_uri": "https://localhost:8080/"
        },
        "id": "Aa_bZUv6z5Le",
        "outputId": "86631a96-be24-4998-8e93-9db5654279b7"
      },
      "execution_count": 81,
      "outputs": [
        {
          "output_type": "stream",
          "name": "stdout",
          "text": [
            "Johansen cointegration test using trace test statistic with 1% significance level\n",
            "=====================================\n",
            "r_0 r_1 test statistic critical value\n",
            "-------------------------------------\n",
            "  0   6          6624.          117.0\n",
            "  1   6          4490.          87.77\n",
            "  2   6          2460.          62.52\n",
            "  3   6          1157.          41.08\n",
            "  4   6          433.0          23.15\n",
            "  5   6          75.99          6.635\n",
            "-------------------------------------\n"
          ]
        }
      ]
    },
    {
      "cell_type": "code",
      "source": [
        "vec_rank2 = select_coint_rank(X, det_order = 1, k_ar_diff = 1, method = 'maxeig', signif=0.01)\n",
        "print(vec_rank2.summary())"
      ],
      "metadata": {
        "colab": {
          "base_uri": "https://localhost:8080/"
        },
        "id": "1Kmfq84-zy6F",
        "outputId": "7a9ad6af-0457-48e5-9401-f89b8bed25f3"
      },
      "execution_count": 83,
      "outputs": [
        {
          "output_type": "stream",
          "name": "stdout",
          "text": [
            "Johansen cointegration test using maximum eigenvalue test statistic with 1% significance level\n",
            "=====================================\n",
            "r_0 r_1 test statistic critical value\n",
            "-------------------------------------\n",
            "  0   1          2134.          49.41\n",
            "  1   2          2031.          42.86\n",
            "  2   3          1302.          36.19\n",
            "  3   4          724.4          29.26\n",
            "  4   5          357.1          21.75\n",
            "  5   6          75.99          6.635\n",
            "-------------------------------------\n"
          ]
        }
      ]
    },
    {
      "cell_type": "code",
      "source": [
        "vecm = VECM(endog = X, k_ar_diff = 9, coint_rank = 6, deterministic = 'ci')\n",
        "vecm_fit = vecm.fit()\n",
        "vecm_fit.predict(steps=10)"
      ],
      "metadata": {
        "id": "s5AYPzAU1PLC"
      },
      "execution_count": null,
      "outputs": []
    },
    {
      "cell_type": "markdown",
      "source": [
        "RAM is full - crash occurs ... ((("
      ],
      "metadata": {
        "id": "nYntE8Qm1jCC"
      }
    }
  ],
  "metadata": {
    "kernelspec": {
      "display_name": "Python 3.9.13 64-bit (windows store)",
      "language": "python",
      "name": "python3"
    },
    "language_info": {
      "codemirror_mode": {
        "name": "ipython",
        "version": 3
      },
      "file_extension": ".py",
      "mimetype": "text/x-python",
      "name": "python",
      "nbconvert_exporter": "python",
      "pygments_lexer": "ipython3",
      "version": "3.9.13"
    },
    "orig_nbformat": 4,
    "vscode": {
      "interpreter": {
        "hash": "e2752d2f8dd75ff8e1643ff5d7d40937f7a90346173876bb99fa48a8b56b77b3"
      }
    },
    "colab": {
      "name": "Stat_lab.ipynb",
      "provenance": [],
      "toc_visible": true
    }
  },
  "nbformat": 4,
  "nbformat_minor": 0
}